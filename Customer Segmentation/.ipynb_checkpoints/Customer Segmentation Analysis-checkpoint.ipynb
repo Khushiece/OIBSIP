{
 "cells": [
  {
   "cell_type": "markdown",
   "id": "dd826c57",
   "metadata": {},
   "source": [
    "# PROJECT 2-Customer Segmentation Analysis"
   ]
  },
  {
   "cell_type": "markdown",
   "id": "c9a87069",
   "metadata": {},
   "source": [
    "# Customer Segmentation"
   ]
  },
  {
   "cell_type": "markdown",
   "id": "33d2ea37",
   "metadata": {},
   "source": [
    "Customer segmentation is the process by which you divide your customers up based on common characteristics – such as demographics or behaviours, so your marketing team or sales team can reach out to those customers more effectively."
   ]
  },
  {
   "cell_type": "markdown",
   "id": "393fea5b",
   "metadata": {},
   "source": [
    "# Data Collection: "
   ]
  },
  {
   "cell_type": "markdown",
   "id": "c3499eaa",
   "metadata": {},
   "source": [
    "Obtain a dataset containing customer information, purchase history, and relevant data"
   ]
  },
  {
   "cell_type": "code",
   "execution_count": 4,
   "id": "86a6c30e",
   "metadata": {},
   "outputs": [],
   "source": [
    "import numpy as np\n",
    "import pandas as pd\n",
    "import warnings\n",
    "warnings.filterwarnings(\"ignore\")\n",
    "import seaborn as sns\n",
    "import matplotlib.pyplot as plt  # Corrected import statement\n",
    "from scipy.stats import pointbiserialr\n"
   ]
  },
  {
   "cell_type": "code",
   "execution_count": 5,
   "id": "ac0cd7ce",
   "metadata": {},
   "outputs": [
    {
     "data": {
      "text/html": [
       "<div>\n",
       "<style scoped>\n",
       "    .dataframe tbody tr th:only-of-type {\n",
       "        vertical-align: middle;\n",
       "    }\n",
       "\n",
       "    .dataframe tbody tr th {\n",
       "        vertical-align: top;\n",
       "    }\n",
       "\n",
       "    .dataframe thead th {\n",
       "        text-align: right;\n",
       "    }\n",
       "</style>\n",
       "<table border=\"1\" class=\"dataframe\">\n",
       "  <thead>\n",
       "    <tr style=\"text-align: right;\">\n",
       "      <th></th>\n",
       "      <th>Income</th>\n",
       "      <th>Kidhome</th>\n",
       "      <th>Teenhome</th>\n",
       "      <th>Recency</th>\n",
       "      <th>MntWines</th>\n",
       "      <th>MntFruits</th>\n",
       "      <th>MntMeatProducts</th>\n",
       "      <th>MntFishProducts</th>\n",
       "      <th>MntSweetProducts</th>\n",
       "      <th>MntGoldProds</th>\n",
       "      <th>...</th>\n",
       "      <th>marital_Together</th>\n",
       "      <th>marital_Widow</th>\n",
       "      <th>education_2n Cycle</th>\n",
       "      <th>education_Basic</th>\n",
       "      <th>education_Graduation</th>\n",
       "      <th>education_Master</th>\n",
       "      <th>education_PhD</th>\n",
       "      <th>MntTotal</th>\n",
       "      <th>MntRegularProds</th>\n",
       "      <th>AcceptedCmpOverall</th>\n",
       "    </tr>\n",
       "  </thead>\n",
       "  <tbody>\n",
       "    <tr>\n",
       "      <th>0</th>\n",
       "      <td>58138.0</td>\n",
       "      <td>0</td>\n",
       "      <td>0</td>\n",
       "      <td>58</td>\n",
       "      <td>635</td>\n",
       "      <td>88</td>\n",
       "      <td>546</td>\n",
       "      <td>172</td>\n",
       "      <td>88</td>\n",
       "      <td>88</td>\n",
       "      <td>...</td>\n",
       "      <td>0</td>\n",
       "      <td>0</td>\n",
       "      <td>0</td>\n",
       "      <td>0</td>\n",
       "      <td>1</td>\n",
       "      <td>0</td>\n",
       "      <td>0</td>\n",
       "      <td>1529</td>\n",
       "      <td>1441</td>\n",
       "      <td>0</td>\n",
       "    </tr>\n",
       "    <tr>\n",
       "      <th>1</th>\n",
       "      <td>46344.0</td>\n",
       "      <td>1</td>\n",
       "      <td>1</td>\n",
       "      <td>38</td>\n",
       "      <td>11</td>\n",
       "      <td>1</td>\n",
       "      <td>6</td>\n",
       "      <td>2</td>\n",
       "      <td>1</td>\n",
       "      <td>6</td>\n",
       "      <td>...</td>\n",
       "      <td>0</td>\n",
       "      <td>0</td>\n",
       "      <td>0</td>\n",
       "      <td>0</td>\n",
       "      <td>1</td>\n",
       "      <td>0</td>\n",
       "      <td>0</td>\n",
       "      <td>21</td>\n",
       "      <td>15</td>\n",
       "      <td>0</td>\n",
       "    </tr>\n",
       "    <tr>\n",
       "      <th>2</th>\n",
       "      <td>71613.0</td>\n",
       "      <td>0</td>\n",
       "      <td>0</td>\n",
       "      <td>26</td>\n",
       "      <td>426</td>\n",
       "      <td>49</td>\n",
       "      <td>127</td>\n",
       "      <td>111</td>\n",
       "      <td>21</td>\n",
       "      <td>42</td>\n",
       "      <td>...</td>\n",
       "      <td>1</td>\n",
       "      <td>0</td>\n",
       "      <td>0</td>\n",
       "      <td>0</td>\n",
       "      <td>1</td>\n",
       "      <td>0</td>\n",
       "      <td>0</td>\n",
       "      <td>734</td>\n",
       "      <td>692</td>\n",
       "      <td>0</td>\n",
       "    </tr>\n",
       "    <tr>\n",
       "      <th>3</th>\n",
       "      <td>26646.0</td>\n",
       "      <td>1</td>\n",
       "      <td>0</td>\n",
       "      <td>26</td>\n",
       "      <td>11</td>\n",
       "      <td>4</td>\n",
       "      <td>20</td>\n",
       "      <td>10</td>\n",
       "      <td>3</td>\n",
       "      <td>5</td>\n",
       "      <td>...</td>\n",
       "      <td>1</td>\n",
       "      <td>0</td>\n",
       "      <td>0</td>\n",
       "      <td>0</td>\n",
       "      <td>1</td>\n",
       "      <td>0</td>\n",
       "      <td>0</td>\n",
       "      <td>48</td>\n",
       "      <td>43</td>\n",
       "      <td>0</td>\n",
       "    </tr>\n",
       "    <tr>\n",
       "      <th>4</th>\n",
       "      <td>58293.0</td>\n",
       "      <td>1</td>\n",
       "      <td>0</td>\n",
       "      <td>94</td>\n",
       "      <td>173</td>\n",
       "      <td>43</td>\n",
       "      <td>118</td>\n",
       "      <td>46</td>\n",
       "      <td>27</td>\n",
       "      <td>15</td>\n",
       "      <td>...</td>\n",
       "      <td>0</td>\n",
       "      <td>0</td>\n",
       "      <td>0</td>\n",
       "      <td>0</td>\n",
       "      <td>0</td>\n",
       "      <td>0</td>\n",
       "      <td>1</td>\n",
       "      <td>407</td>\n",
       "      <td>392</td>\n",
       "      <td>0</td>\n",
       "    </tr>\n",
       "  </tbody>\n",
       "</table>\n",
       "<p>5 rows × 39 columns</p>\n",
       "</div>"
      ],
      "text/plain": [
       "    Income  Kidhome  Teenhome  Recency  MntWines  MntFruits  MntMeatProducts  \\\n",
       "0  58138.0        0         0       58       635         88              546   \n",
       "1  46344.0        1         1       38        11          1                6   \n",
       "2  71613.0        0         0       26       426         49              127   \n",
       "3  26646.0        1         0       26        11          4               20   \n",
       "4  58293.0        1         0       94       173         43              118   \n",
       "\n",
       "   MntFishProducts  MntSweetProducts  MntGoldProds  ...  marital_Together  \\\n",
       "0              172                88            88  ...                 0   \n",
       "1                2                 1             6  ...                 0   \n",
       "2              111                21            42  ...                 1   \n",
       "3               10                 3             5  ...                 1   \n",
       "4               46                27            15  ...                 0   \n",
       "\n",
       "   marital_Widow  education_2n Cycle  education_Basic  education_Graduation  \\\n",
       "0              0                   0                0                     1   \n",
       "1              0                   0                0                     1   \n",
       "2              0                   0                0                     1   \n",
       "3              0                   0                0                     1   \n",
       "4              0                   0                0                     0   \n",
       "\n",
       "   education_Master  education_PhD  MntTotal  MntRegularProds  \\\n",
       "0                 0              0      1529             1441   \n",
       "1                 0              0        21               15   \n",
       "2                 0              0       734              692   \n",
       "3                 0              0        48               43   \n",
       "4                 0              1       407              392   \n",
       "\n",
       "   AcceptedCmpOverall  \n",
       "0                   0  \n",
       "1                   0  \n",
       "2                   0  \n",
       "3                   0  \n",
       "4                   0  \n",
       "\n",
       "[5 rows x 39 columns]"
      ]
     },
     "execution_count": 5,
     "metadata": {},
     "output_type": "execute_result"
    }
   ],
   "source": [
    "#Reading the data\n",
    "data=pd.read_csv(\"C:\\\\Users\\\\khush\\\\Desktop\\\\Data Analysts\\\\OASIS INFOBYTE\\\\Market Analysis\\\\ifood_df.csv\")\n",
    "#Taking a look at the top 5 rows of the data\n",
    "data.head()"
   ]
  },
  {
   "cell_type": "markdown",
   "id": "3b32ce4a",
   "metadata": {},
   "source": [
    "# Data Exploration and Cleaning:"
   ]
  },
  {
   "cell_type": "markdown",
   "id": "fa43317d",
   "metadata": {},
   "source": [
    "Explore the dataset, understand its structure, and handle\n",
    "any missing or inconsistent data."
   ]
  },
  {
   "cell_type": "markdown",
   "id": "d06af7dd",
   "metadata": {},
   "source": [
    "Data exploration and cleaning are crucial steps in the data analysis process."
   ]
  },
  {
   "cell_type": "code",
   "execution_count": 6,
   "id": "37b5c436",
   "metadata": {},
   "outputs": [
    {
     "data": {
      "text/html": [
       "<div>\n",
       "<style scoped>\n",
       "    .dataframe tbody tr th:only-of-type {\n",
       "        vertical-align: middle;\n",
       "    }\n",
       "\n",
       "    .dataframe tbody tr th {\n",
       "        vertical-align: top;\n",
       "    }\n",
       "\n",
       "    .dataframe thead th {\n",
       "        text-align: right;\n",
       "    }\n",
       "</style>\n",
       "<table border=\"1\" class=\"dataframe\">\n",
       "  <thead>\n",
       "    <tr style=\"text-align: right;\">\n",
       "      <th></th>\n",
       "      <th>Income</th>\n",
       "      <th>Kidhome</th>\n",
       "      <th>Teenhome</th>\n",
       "      <th>Recency</th>\n",
       "      <th>MntWines</th>\n",
       "      <th>MntFruits</th>\n",
       "      <th>MntMeatProducts</th>\n",
       "      <th>MntFishProducts</th>\n",
       "      <th>MntSweetProducts</th>\n",
       "      <th>MntGoldProds</th>\n",
       "      <th>...</th>\n",
       "      <th>marital_Together</th>\n",
       "      <th>marital_Widow</th>\n",
       "      <th>education_2n Cycle</th>\n",
       "      <th>education_Basic</th>\n",
       "      <th>education_Graduation</th>\n",
       "      <th>education_Master</th>\n",
       "      <th>education_PhD</th>\n",
       "      <th>MntTotal</th>\n",
       "      <th>MntRegularProds</th>\n",
       "      <th>AcceptedCmpOverall</th>\n",
       "    </tr>\n",
       "  </thead>\n",
       "  <tbody>\n",
       "    <tr>\n",
       "      <th>0</th>\n",
       "      <td>58138.0</td>\n",
       "      <td>0</td>\n",
       "      <td>0</td>\n",
       "      <td>58</td>\n",
       "      <td>635</td>\n",
       "      <td>88</td>\n",
       "      <td>546</td>\n",
       "      <td>172</td>\n",
       "      <td>88</td>\n",
       "      <td>88</td>\n",
       "      <td>...</td>\n",
       "      <td>0</td>\n",
       "      <td>0</td>\n",
       "      <td>0</td>\n",
       "      <td>0</td>\n",
       "      <td>1</td>\n",
       "      <td>0</td>\n",
       "      <td>0</td>\n",
       "      <td>1529</td>\n",
       "      <td>1441</td>\n",
       "      <td>0</td>\n",
       "    </tr>\n",
       "    <tr>\n",
       "      <th>1</th>\n",
       "      <td>46344.0</td>\n",
       "      <td>1</td>\n",
       "      <td>1</td>\n",
       "      <td>38</td>\n",
       "      <td>11</td>\n",
       "      <td>1</td>\n",
       "      <td>6</td>\n",
       "      <td>2</td>\n",
       "      <td>1</td>\n",
       "      <td>6</td>\n",
       "      <td>...</td>\n",
       "      <td>0</td>\n",
       "      <td>0</td>\n",
       "      <td>0</td>\n",
       "      <td>0</td>\n",
       "      <td>1</td>\n",
       "      <td>0</td>\n",
       "      <td>0</td>\n",
       "      <td>21</td>\n",
       "      <td>15</td>\n",
       "      <td>0</td>\n",
       "    </tr>\n",
       "    <tr>\n",
       "      <th>2</th>\n",
       "      <td>71613.0</td>\n",
       "      <td>0</td>\n",
       "      <td>0</td>\n",
       "      <td>26</td>\n",
       "      <td>426</td>\n",
       "      <td>49</td>\n",
       "      <td>127</td>\n",
       "      <td>111</td>\n",
       "      <td>21</td>\n",
       "      <td>42</td>\n",
       "      <td>...</td>\n",
       "      <td>1</td>\n",
       "      <td>0</td>\n",
       "      <td>0</td>\n",
       "      <td>0</td>\n",
       "      <td>1</td>\n",
       "      <td>0</td>\n",
       "      <td>0</td>\n",
       "      <td>734</td>\n",
       "      <td>692</td>\n",
       "      <td>0</td>\n",
       "    </tr>\n",
       "    <tr>\n",
       "      <th>3</th>\n",
       "      <td>26646.0</td>\n",
       "      <td>1</td>\n",
       "      <td>0</td>\n",
       "      <td>26</td>\n",
       "      <td>11</td>\n",
       "      <td>4</td>\n",
       "      <td>20</td>\n",
       "      <td>10</td>\n",
       "      <td>3</td>\n",
       "      <td>5</td>\n",
       "      <td>...</td>\n",
       "      <td>1</td>\n",
       "      <td>0</td>\n",
       "      <td>0</td>\n",
       "      <td>0</td>\n",
       "      <td>1</td>\n",
       "      <td>0</td>\n",
       "      <td>0</td>\n",
       "      <td>48</td>\n",
       "      <td>43</td>\n",
       "      <td>0</td>\n",
       "    </tr>\n",
       "    <tr>\n",
       "      <th>4</th>\n",
       "      <td>58293.0</td>\n",
       "      <td>1</td>\n",
       "      <td>0</td>\n",
       "      <td>94</td>\n",
       "      <td>173</td>\n",
       "      <td>43</td>\n",
       "      <td>118</td>\n",
       "      <td>46</td>\n",
       "      <td>27</td>\n",
       "      <td>15</td>\n",
       "      <td>...</td>\n",
       "      <td>0</td>\n",
       "      <td>0</td>\n",
       "      <td>0</td>\n",
       "      <td>0</td>\n",
       "      <td>0</td>\n",
       "      <td>0</td>\n",
       "      <td>1</td>\n",
       "      <td>407</td>\n",
       "      <td>392</td>\n",
       "      <td>0</td>\n",
       "    </tr>\n",
       "  </tbody>\n",
       "</table>\n",
       "<p>5 rows × 39 columns</p>\n",
       "</div>"
      ],
      "text/plain": [
       "    Income  Kidhome  Teenhome  Recency  MntWines  MntFruits  MntMeatProducts  \\\n",
       "0  58138.0        0         0       58       635         88              546   \n",
       "1  46344.0        1         1       38        11          1                6   \n",
       "2  71613.0        0         0       26       426         49              127   \n",
       "3  26646.0        1         0       26        11          4               20   \n",
       "4  58293.0        1         0       94       173         43              118   \n",
       "\n",
       "   MntFishProducts  MntSweetProducts  MntGoldProds  ...  marital_Together  \\\n",
       "0              172                88            88  ...                 0   \n",
       "1                2                 1             6  ...                 0   \n",
       "2              111                21            42  ...                 1   \n",
       "3               10                 3             5  ...                 1   \n",
       "4               46                27            15  ...                 0   \n",
       "\n",
       "   marital_Widow  education_2n Cycle  education_Basic  education_Graduation  \\\n",
       "0              0                   0                0                     1   \n",
       "1              0                   0                0                     1   \n",
       "2              0                   0                0                     1   \n",
       "3              0                   0                0                     1   \n",
       "4              0                   0                0                     0   \n",
       "\n",
       "   education_Master  education_PhD  MntTotal  MntRegularProds  \\\n",
       "0                 0              0      1529             1441   \n",
       "1                 0              0        21               15   \n",
       "2                 0              0       734              692   \n",
       "3                 0              0        48               43   \n",
       "4                 0              1       407              392   \n",
       "\n",
       "   AcceptedCmpOverall  \n",
       "0                   0  \n",
       "1                   0  \n",
       "2                   0  \n",
       "3                   0  \n",
       "4                   0  \n",
       "\n",
       "[5 rows x 39 columns]"
      ]
     },
     "execution_count": 6,
     "metadata": {},
     "output_type": "execute_result"
    }
   ],
   "source": [
    "data.head()"
   ]
  },
  {
   "cell_type": "code",
   "execution_count": 7,
   "id": "85203e18",
   "metadata": {},
   "outputs": [
    {
     "data": {
      "text/plain": [
       "Index(['Income', 'Kidhome', 'Teenhome', 'Recency', 'MntWines', 'MntFruits',\n",
       "       'MntMeatProducts', 'MntFishProducts', 'MntSweetProducts',\n",
       "       'MntGoldProds', 'NumDealsPurchases', 'NumWebPurchases',\n",
       "       'NumCatalogPurchases', 'NumStorePurchases', 'NumWebVisitsMonth',\n",
       "       'AcceptedCmp3', 'AcceptedCmp4', 'AcceptedCmp5', 'AcceptedCmp1',\n",
       "       'AcceptedCmp2', 'Complain', 'Z_CostContact', 'Z_Revenue', 'Response',\n",
       "       'Age', 'Customer_Days', 'marital_Divorced', 'marital_Married',\n",
       "       'marital_Single', 'marital_Together', 'marital_Widow',\n",
       "       'education_2n Cycle', 'education_Basic', 'education_Graduation',\n",
       "       'education_Master', 'education_PhD', 'MntTotal', 'MntRegularProds',\n",
       "       'AcceptedCmpOverall'],\n",
       "      dtype='object')"
      ]
     },
     "execution_count": 7,
     "metadata": {},
     "output_type": "execute_result"
    }
   ],
   "source": [
    "data.columns"
   ]
  },
  {
   "cell_type": "code",
   "execution_count": 8,
   "id": "bcf17c90",
   "metadata": {},
   "outputs": [
    {
     "data": {
      "text/plain": [
       "(2205, 39)"
      ]
     },
     "execution_count": 8,
     "metadata": {},
     "output_type": "execute_result"
    }
   ],
   "source": [
    "data.shape#describe the shape of datasets."
   ]
  },
  {
   "cell_type": "markdown",
   "id": "134782b2",
   "metadata": {},
   "source": [
    "# Checking column types"
   ]
  },
  {
   "cell_type": "code",
   "execution_count": 9,
   "id": "0427724e",
   "metadata": {},
   "outputs": [
    {
     "name": "stdout",
     "output_type": "stream",
     "text": [
      "<class 'pandas.core.frame.DataFrame'>\n",
      "RangeIndex: 2205 entries, 0 to 2204\n",
      "Data columns (total 39 columns):\n",
      " #   Column                Non-Null Count  Dtype  \n",
      "---  ------                --------------  -----  \n",
      " 0   Income                2205 non-null   float64\n",
      " 1   Kidhome               2205 non-null   int64  \n",
      " 2   Teenhome              2205 non-null   int64  \n",
      " 3   Recency               2205 non-null   int64  \n",
      " 4   MntWines              2205 non-null   int64  \n",
      " 5   MntFruits             2205 non-null   int64  \n",
      " 6   MntMeatProducts       2205 non-null   int64  \n",
      " 7   MntFishProducts       2205 non-null   int64  \n",
      " 8   MntSweetProducts      2205 non-null   int64  \n",
      " 9   MntGoldProds          2205 non-null   int64  \n",
      " 10  NumDealsPurchases     2205 non-null   int64  \n",
      " 11  NumWebPurchases       2205 non-null   int64  \n",
      " 12  NumCatalogPurchases   2205 non-null   int64  \n",
      " 13  NumStorePurchases     2205 non-null   int64  \n",
      " 14  NumWebVisitsMonth     2205 non-null   int64  \n",
      " 15  AcceptedCmp3          2205 non-null   int64  \n",
      " 16  AcceptedCmp4          2205 non-null   int64  \n",
      " 17  AcceptedCmp5          2205 non-null   int64  \n",
      " 18  AcceptedCmp1          2205 non-null   int64  \n",
      " 19  AcceptedCmp2          2205 non-null   int64  \n",
      " 20  Complain              2205 non-null   int64  \n",
      " 21  Z_CostContact         2205 non-null   int64  \n",
      " 22  Z_Revenue             2205 non-null   int64  \n",
      " 23  Response              2205 non-null   int64  \n",
      " 24  Age                   2205 non-null   int64  \n",
      " 25  Customer_Days         2205 non-null   int64  \n",
      " 26  marital_Divorced      2205 non-null   int64  \n",
      " 27  marital_Married       2205 non-null   int64  \n",
      " 28  marital_Single        2205 non-null   int64  \n",
      " 29  marital_Together      2205 non-null   int64  \n",
      " 30  marital_Widow         2205 non-null   int64  \n",
      " 31  education_2n Cycle    2205 non-null   int64  \n",
      " 32  education_Basic       2205 non-null   int64  \n",
      " 33  education_Graduation  2205 non-null   int64  \n",
      " 34  education_Master      2205 non-null   int64  \n",
      " 35  education_PhD         2205 non-null   int64  \n",
      " 36  MntTotal              2205 non-null   int64  \n",
      " 37  MntRegularProds       2205 non-null   int64  \n",
      " 38  AcceptedCmpOverall    2205 non-null   int64  \n",
      "dtypes: float64(1), int64(38)\n",
      "memory usage: 672.0 KB\n"
     ]
    }
   ],
   "source": [
    "data.info()"
   ]
  },
  {
   "cell_type": "markdown",
   "id": "986f0ddd",
   "metadata": {},
   "source": [
    "All column types look good. There is no need to change any data types."
   ]
  },
  {
   "cell_type": "markdown",
   "id": "6000ea7a",
   "metadata": {},
   "source": [
    "# Looking for missing values"
   ]
  },
  {
   "cell_type": "markdown",
   "id": "caa013b2",
   "metadata": {},
   "source": [
    "Surprisingly, there is no missing values in the data and there are 2,205 observations in the data frame."
   ]
  },
  {
   "cell_type": "code",
   "execution_count": 10,
   "id": "8eb38985",
   "metadata": {},
   "outputs": [
    {
     "data": {
      "text/plain": [
       "Income                  0\n",
       "Kidhome                 0\n",
       "Teenhome                0\n",
       "Recency                 0\n",
       "MntWines                0\n",
       "MntFruits               0\n",
       "MntMeatProducts         0\n",
       "MntFishProducts         0\n",
       "MntSweetProducts        0\n",
       "MntGoldProds            0\n",
       "NumDealsPurchases       0\n",
       "NumWebPurchases         0\n",
       "NumCatalogPurchases     0\n",
       "NumStorePurchases       0\n",
       "NumWebVisitsMonth       0\n",
       "AcceptedCmp3            0\n",
       "AcceptedCmp4            0\n",
       "AcceptedCmp5            0\n",
       "AcceptedCmp1            0\n",
       "AcceptedCmp2            0\n",
       "Complain                0\n",
       "Z_CostContact           0\n",
       "Z_Revenue               0\n",
       "Response                0\n",
       "Age                     0\n",
       "Customer_Days           0\n",
       "marital_Divorced        0\n",
       "marital_Married         0\n",
       "marital_Single          0\n",
       "marital_Together        0\n",
       "marital_Widow           0\n",
       "education_2n Cycle      0\n",
       "education_Basic         0\n",
       "education_Graduation    0\n",
       "education_Master        0\n",
       "education_PhD           0\n",
       "MntTotal                0\n",
       "MntRegularProds         0\n",
       "AcceptedCmpOverall      0\n",
       "dtype: int64"
      ]
     },
     "execution_count": 10,
     "metadata": {},
     "output_type": "execute_result"
    }
   ],
   "source": [
    "data.isna().sum()"
   ]
  },
  {
   "cell_type": "markdown",
   "id": "e4760268",
   "metadata": {},
   "source": [
    "# Checking for missing values"
   ]
  },
  {
   "cell_type": "markdown",
   "id": "3ad0f4af",
   "metadata": {},
   "source": [
    "False indicates that the corresponding element is not missing, while True indicates that it is missing"
   ]
  },
  {
   "cell_type": "code",
   "execution_count": 11,
   "id": "9abcc16a",
   "metadata": {},
   "outputs": [],
   "source": [
    "missing_values=data.isnull()# Check for missing values"
   ]
  },
  {
   "cell_type": "code",
   "execution_count": 12,
   "id": "853c20db",
   "metadata": {
    "scrolled": true
   },
   "outputs": [
    {
     "data": {
      "text/html": [
       "<div>\n",
       "<style scoped>\n",
       "    .dataframe tbody tr th:only-of-type {\n",
       "        vertical-align: middle;\n",
       "    }\n",
       "\n",
       "    .dataframe tbody tr th {\n",
       "        vertical-align: top;\n",
       "    }\n",
       "\n",
       "    .dataframe thead th {\n",
       "        text-align: right;\n",
       "    }\n",
       "</style>\n",
       "<table border=\"1\" class=\"dataframe\">\n",
       "  <thead>\n",
       "    <tr style=\"text-align: right;\">\n",
       "      <th></th>\n",
       "      <th>Income</th>\n",
       "      <th>Kidhome</th>\n",
       "      <th>Teenhome</th>\n",
       "      <th>Recency</th>\n",
       "      <th>MntWines</th>\n",
       "      <th>MntFruits</th>\n",
       "      <th>MntMeatProducts</th>\n",
       "      <th>MntFishProducts</th>\n",
       "      <th>MntSweetProducts</th>\n",
       "      <th>MntGoldProds</th>\n",
       "      <th>...</th>\n",
       "      <th>marital_Together</th>\n",
       "      <th>marital_Widow</th>\n",
       "      <th>education_2n Cycle</th>\n",
       "      <th>education_Basic</th>\n",
       "      <th>education_Graduation</th>\n",
       "      <th>education_Master</th>\n",
       "      <th>education_PhD</th>\n",
       "      <th>MntTotal</th>\n",
       "      <th>MntRegularProds</th>\n",
       "      <th>AcceptedCmpOverall</th>\n",
       "    </tr>\n",
       "  </thead>\n",
       "  <tbody>\n",
       "    <tr>\n",
       "      <th>0</th>\n",
       "      <td>False</td>\n",
       "      <td>False</td>\n",
       "      <td>False</td>\n",
       "      <td>False</td>\n",
       "      <td>False</td>\n",
       "      <td>False</td>\n",
       "      <td>False</td>\n",
       "      <td>False</td>\n",
       "      <td>False</td>\n",
       "      <td>False</td>\n",
       "      <td>...</td>\n",
       "      <td>False</td>\n",
       "      <td>False</td>\n",
       "      <td>False</td>\n",
       "      <td>False</td>\n",
       "      <td>False</td>\n",
       "      <td>False</td>\n",
       "      <td>False</td>\n",
       "      <td>False</td>\n",
       "      <td>False</td>\n",
       "      <td>False</td>\n",
       "    </tr>\n",
       "    <tr>\n",
       "      <th>1</th>\n",
       "      <td>False</td>\n",
       "      <td>False</td>\n",
       "      <td>False</td>\n",
       "      <td>False</td>\n",
       "      <td>False</td>\n",
       "      <td>False</td>\n",
       "      <td>False</td>\n",
       "      <td>False</td>\n",
       "      <td>False</td>\n",
       "      <td>False</td>\n",
       "      <td>...</td>\n",
       "      <td>False</td>\n",
       "      <td>False</td>\n",
       "      <td>False</td>\n",
       "      <td>False</td>\n",
       "      <td>False</td>\n",
       "      <td>False</td>\n",
       "      <td>False</td>\n",
       "      <td>False</td>\n",
       "      <td>False</td>\n",
       "      <td>False</td>\n",
       "    </tr>\n",
       "    <tr>\n",
       "      <th>2</th>\n",
       "      <td>False</td>\n",
       "      <td>False</td>\n",
       "      <td>False</td>\n",
       "      <td>False</td>\n",
       "      <td>False</td>\n",
       "      <td>False</td>\n",
       "      <td>False</td>\n",
       "      <td>False</td>\n",
       "      <td>False</td>\n",
       "      <td>False</td>\n",
       "      <td>...</td>\n",
       "      <td>False</td>\n",
       "      <td>False</td>\n",
       "      <td>False</td>\n",
       "      <td>False</td>\n",
       "      <td>False</td>\n",
       "      <td>False</td>\n",
       "      <td>False</td>\n",
       "      <td>False</td>\n",
       "      <td>False</td>\n",
       "      <td>False</td>\n",
       "    </tr>\n",
       "    <tr>\n",
       "      <th>3</th>\n",
       "      <td>False</td>\n",
       "      <td>False</td>\n",
       "      <td>False</td>\n",
       "      <td>False</td>\n",
       "      <td>False</td>\n",
       "      <td>False</td>\n",
       "      <td>False</td>\n",
       "      <td>False</td>\n",
       "      <td>False</td>\n",
       "      <td>False</td>\n",
       "      <td>...</td>\n",
       "      <td>False</td>\n",
       "      <td>False</td>\n",
       "      <td>False</td>\n",
       "      <td>False</td>\n",
       "      <td>False</td>\n",
       "      <td>False</td>\n",
       "      <td>False</td>\n",
       "      <td>False</td>\n",
       "      <td>False</td>\n",
       "      <td>False</td>\n",
       "    </tr>\n",
       "    <tr>\n",
       "      <th>4</th>\n",
       "      <td>False</td>\n",
       "      <td>False</td>\n",
       "      <td>False</td>\n",
       "      <td>False</td>\n",
       "      <td>False</td>\n",
       "      <td>False</td>\n",
       "      <td>False</td>\n",
       "      <td>False</td>\n",
       "      <td>False</td>\n",
       "      <td>False</td>\n",
       "      <td>...</td>\n",
       "      <td>False</td>\n",
       "      <td>False</td>\n",
       "      <td>False</td>\n",
       "      <td>False</td>\n",
       "      <td>False</td>\n",
       "      <td>False</td>\n",
       "      <td>False</td>\n",
       "      <td>False</td>\n",
       "      <td>False</td>\n",
       "      <td>False</td>\n",
       "    </tr>\n",
       "    <tr>\n",
       "      <th>...</th>\n",
       "      <td>...</td>\n",
       "      <td>...</td>\n",
       "      <td>...</td>\n",
       "      <td>...</td>\n",
       "      <td>...</td>\n",
       "      <td>...</td>\n",
       "      <td>...</td>\n",
       "      <td>...</td>\n",
       "      <td>...</td>\n",
       "      <td>...</td>\n",
       "      <td>...</td>\n",
       "      <td>...</td>\n",
       "      <td>...</td>\n",
       "      <td>...</td>\n",
       "      <td>...</td>\n",
       "      <td>...</td>\n",
       "      <td>...</td>\n",
       "      <td>...</td>\n",
       "      <td>...</td>\n",
       "      <td>...</td>\n",
       "      <td>...</td>\n",
       "    </tr>\n",
       "    <tr>\n",
       "      <th>2200</th>\n",
       "      <td>False</td>\n",
       "      <td>False</td>\n",
       "      <td>False</td>\n",
       "      <td>False</td>\n",
       "      <td>False</td>\n",
       "      <td>False</td>\n",
       "      <td>False</td>\n",
       "      <td>False</td>\n",
       "      <td>False</td>\n",
       "      <td>False</td>\n",
       "      <td>...</td>\n",
       "      <td>False</td>\n",
       "      <td>False</td>\n",
       "      <td>False</td>\n",
       "      <td>False</td>\n",
       "      <td>False</td>\n",
       "      <td>False</td>\n",
       "      <td>False</td>\n",
       "      <td>False</td>\n",
       "      <td>False</td>\n",
       "      <td>False</td>\n",
       "    </tr>\n",
       "    <tr>\n",
       "      <th>2201</th>\n",
       "      <td>False</td>\n",
       "      <td>False</td>\n",
       "      <td>False</td>\n",
       "      <td>False</td>\n",
       "      <td>False</td>\n",
       "      <td>False</td>\n",
       "      <td>False</td>\n",
       "      <td>False</td>\n",
       "      <td>False</td>\n",
       "      <td>False</td>\n",
       "      <td>...</td>\n",
       "      <td>False</td>\n",
       "      <td>False</td>\n",
       "      <td>False</td>\n",
       "      <td>False</td>\n",
       "      <td>False</td>\n",
       "      <td>False</td>\n",
       "      <td>False</td>\n",
       "      <td>False</td>\n",
       "      <td>False</td>\n",
       "      <td>False</td>\n",
       "    </tr>\n",
       "    <tr>\n",
       "      <th>2202</th>\n",
       "      <td>False</td>\n",
       "      <td>False</td>\n",
       "      <td>False</td>\n",
       "      <td>False</td>\n",
       "      <td>False</td>\n",
       "      <td>False</td>\n",
       "      <td>False</td>\n",
       "      <td>False</td>\n",
       "      <td>False</td>\n",
       "      <td>False</td>\n",
       "      <td>...</td>\n",
       "      <td>False</td>\n",
       "      <td>False</td>\n",
       "      <td>False</td>\n",
       "      <td>False</td>\n",
       "      <td>False</td>\n",
       "      <td>False</td>\n",
       "      <td>False</td>\n",
       "      <td>False</td>\n",
       "      <td>False</td>\n",
       "      <td>False</td>\n",
       "    </tr>\n",
       "    <tr>\n",
       "      <th>2203</th>\n",
       "      <td>False</td>\n",
       "      <td>False</td>\n",
       "      <td>False</td>\n",
       "      <td>False</td>\n",
       "      <td>False</td>\n",
       "      <td>False</td>\n",
       "      <td>False</td>\n",
       "      <td>False</td>\n",
       "      <td>False</td>\n",
       "      <td>False</td>\n",
       "      <td>...</td>\n",
       "      <td>False</td>\n",
       "      <td>False</td>\n",
       "      <td>False</td>\n",
       "      <td>False</td>\n",
       "      <td>False</td>\n",
       "      <td>False</td>\n",
       "      <td>False</td>\n",
       "      <td>False</td>\n",
       "      <td>False</td>\n",
       "      <td>False</td>\n",
       "    </tr>\n",
       "    <tr>\n",
       "      <th>2204</th>\n",
       "      <td>False</td>\n",
       "      <td>False</td>\n",
       "      <td>False</td>\n",
       "      <td>False</td>\n",
       "      <td>False</td>\n",
       "      <td>False</td>\n",
       "      <td>False</td>\n",
       "      <td>False</td>\n",
       "      <td>False</td>\n",
       "      <td>False</td>\n",
       "      <td>...</td>\n",
       "      <td>False</td>\n",
       "      <td>False</td>\n",
       "      <td>False</td>\n",
       "      <td>False</td>\n",
       "      <td>False</td>\n",
       "      <td>False</td>\n",
       "      <td>False</td>\n",
       "      <td>False</td>\n",
       "      <td>False</td>\n",
       "      <td>False</td>\n",
       "    </tr>\n",
       "  </tbody>\n",
       "</table>\n",
       "<p>2205 rows × 39 columns</p>\n",
       "</div>"
      ],
      "text/plain": [
       "      Income  Kidhome  Teenhome  Recency  MntWines  MntFruits  \\\n",
       "0      False    False     False    False     False      False   \n",
       "1      False    False     False    False     False      False   \n",
       "2      False    False     False    False     False      False   \n",
       "3      False    False     False    False     False      False   \n",
       "4      False    False     False    False     False      False   \n",
       "...      ...      ...       ...      ...       ...        ...   \n",
       "2200   False    False     False    False     False      False   \n",
       "2201   False    False     False    False     False      False   \n",
       "2202   False    False     False    False     False      False   \n",
       "2203   False    False     False    False     False      False   \n",
       "2204   False    False     False    False     False      False   \n",
       "\n",
       "      MntMeatProducts  MntFishProducts  MntSweetProducts  MntGoldProds  ...  \\\n",
       "0               False            False             False         False  ...   \n",
       "1               False            False             False         False  ...   \n",
       "2               False            False             False         False  ...   \n",
       "3               False            False             False         False  ...   \n",
       "4               False            False             False         False  ...   \n",
       "...               ...              ...               ...           ...  ...   \n",
       "2200            False            False             False         False  ...   \n",
       "2201            False            False             False         False  ...   \n",
       "2202            False            False             False         False  ...   \n",
       "2203            False            False             False         False  ...   \n",
       "2204            False            False             False         False  ...   \n",
       "\n",
       "      marital_Together  marital_Widow  education_2n Cycle  education_Basic  \\\n",
       "0                False          False               False            False   \n",
       "1                False          False               False            False   \n",
       "2                False          False               False            False   \n",
       "3                False          False               False            False   \n",
       "4                False          False               False            False   \n",
       "...                ...            ...                 ...              ...   \n",
       "2200             False          False               False            False   \n",
       "2201             False          False               False            False   \n",
       "2202             False          False               False            False   \n",
       "2203             False          False               False            False   \n",
       "2204             False          False               False            False   \n",
       "\n",
       "      education_Graduation  education_Master  education_PhD  MntTotal  \\\n",
       "0                    False             False          False     False   \n",
       "1                    False             False          False     False   \n",
       "2                    False             False          False     False   \n",
       "3                    False             False          False     False   \n",
       "4                    False             False          False     False   \n",
       "...                    ...               ...            ...       ...   \n",
       "2200                 False             False          False     False   \n",
       "2201                 False             False          False     False   \n",
       "2202                 False             False          False     False   \n",
       "2203                 False             False          False     False   \n",
       "2204                 False             False          False     False   \n",
       "\n",
       "      MntRegularProds  AcceptedCmpOverall  \n",
       "0               False               False  \n",
       "1               False               False  \n",
       "2               False               False  \n",
       "3               False               False  \n",
       "4               False               False  \n",
       "...               ...                 ...  \n",
       "2200            False               False  \n",
       "2201            False               False  \n",
       "2202            False               False  \n",
       "2203            False               False  \n",
       "2204            False               False  \n",
       "\n",
       "[2205 rows x 39 columns]"
      ]
     },
     "execution_count": 12,
     "metadata": {},
     "output_type": "execute_result"
    }
   ],
   "source": [
    "missing_values"
   ]
  },
  {
   "cell_type": "code",
   "execution_count": 13,
   "id": "a426566c",
   "metadata": {},
   "outputs": [],
   "source": [
    "# Get the indices where missing_values is True\n",
    "missing_indices = missing_values[missing_values].stack().index"
   ]
  },
  {
   "cell_type": "code",
   "execution_count": 14,
   "id": "d2095168",
   "metadata": {},
   "outputs": [],
   "source": [
    "# Iterate through the indices and print the corresponding values\n",
    "for row, col in missing_indices:\n",
    "    print(f\"Missing value at row {row}, column '{col}': {data.at[row, col]}\")"
   ]
  },
  {
   "cell_type": "markdown",
   "id": "91331d46",
   "metadata": {},
   "source": [
    "Above analysis shows that there is no missing values."
   ]
  },
  {
   "cell_type": "markdown",
   "id": "7810f836",
   "metadata": {},
   "source": [
    "# Dealing with Duplicates:"
   ]
  },
  {
   "cell_type": "code",
   "execution_count": 15,
   "id": "397dcbf6",
   "metadata": {},
   "outputs": [
    {
     "data": {
      "text/plain": [
       "0       False\n",
       "1       False\n",
       "2       False\n",
       "3       False\n",
       "4       False\n",
       "        ...  \n",
       "2200    False\n",
       "2201     True\n",
       "2202    False\n",
       "2203    False\n",
       "2204    False\n",
       "Length: 2205, dtype: bool"
      ]
     },
     "execution_count": 15,
     "metadata": {},
     "output_type": "execute_result"
    }
   ],
   "source": [
    "duplicates=data.duplicated()\n",
    "duplicates"
   ]
  },
  {
   "cell_type": "markdown",
   "id": "3636cdb2",
   "metadata": {},
   "source": [
    "If df.duplicated() returns True for a particular row, it means that the row is a duplicate of a previous row in the DataFrame. In other words, the values in that row are exactly the same as the values in another row that occurs earlier in the DataFrame."
   ]
  },
  {
   "cell_type": "code",
   "execution_count": 16,
   "id": "9ab7e3eb",
   "metadata": {},
   "outputs": [
    {
     "name": "stdout",
     "output_type": "stream",
     "text": [
      "Number of duplicate rows: 184\n"
     ]
    }
   ],
   "source": [
    "# Count the number of duplicates\n",
    "num_duplicates = duplicates.sum()\n",
    "print(\"Number of duplicate rows:\", num_duplicates)"
   ]
  },
  {
   "cell_type": "code",
   "execution_count": 17,
   "id": "98fee74f",
   "metadata": {},
   "outputs": [
    {
     "name": "stdout",
     "output_type": "stream",
     "text": [
      "Indices of duplicate rows: Int64Index([  77,  167,  267,  268,  346,  366,  404,  426,  446,  487,\n",
      "            ...\n",
      "            2149, 2169, 2171, 2183, 2184, 2185, 2188, 2192, 2199, 2201],\n",
      "           dtype='int64', length=184)\n"
     ]
    }
   ],
   "source": [
    "# Get the indices of duplicate rows\n",
    "duplicate_indices = data[duplicates].index\n",
    "print(\"Indices of duplicate rows:\", duplicate_indices)"
   ]
  },
  {
   "cell_type": "markdown",
   "id": "d92f27c9",
   "metadata": {},
   "source": [
    "Above analysis shows that  there are 184 rows having duplicate values"
   ]
  },
  {
   "cell_type": "markdown",
   "id": "5b463d7f",
   "metadata": {},
   "source": [
    "# Drop the duplicate rows"
   ]
  },
  {
   "cell_type": "markdown",
   "id": "c12d8e14",
   "metadata": {},
   "source": [
    "The df.drop_duplicates() function in pandas is used to remove duplicate rows from a DataFrame. It returns a DataFrame with duplicate rows removed based on a specified subset of columns or considering all columns."
   ]
  },
  {
   "cell_type": "code",
   "execution_count": 18,
   "id": "6332c8e4",
   "metadata": {},
   "outputs": [
    {
     "data": {
      "text/html": [
       "<div>\n",
       "<style scoped>\n",
       "    .dataframe tbody tr th:only-of-type {\n",
       "        vertical-align: middle;\n",
       "    }\n",
       "\n",
       "    .dataframe tbody tr th {\n",
       "        vertical-align: top;\n",
       "    }\n",
       "\n",
       "    .dataframe thead th {\n",
       "        text-align: right;\n",
       "    }\n",
       "</style>\n",
       "<table border=\"1\" class=\"dataframe\">\n",
       "  <thead>\n",
       "    <tr style=\"text-align: right;\">\n",
       "      <th></th>\n",
       "      <th>Income</th>\n",
       "      <th>Kidhome</th>\n",
       "      <th>Teenhome</th>\n",
       "      <th>Recency</th>\n",
       "      <th>MntWines</th>\n",
       "      <th>MntFruits</th>\n",
       "      <th>MntMeatProducts</th>\n",
       "      <th>MntFishProducts</th>\n",
       "      <th>MntSweetProducts</th>\n",
       "      <th>MntGoldProds</th>\n",
       "      <th>...</th>\n",
       "      <th>marital_Together</th>\n",
       "      <th>marital_Widow</th>\n",
       "      <th>education_2n Cycle</th>\n",
       "      <th>education_Basic</th>\n",
       "      <th>education_Graduation</th>\n",
       "      <th>education_Master</th>\n",
       "      <th>education_PhD</th>\n",
       "      <th>MntTotal</th>\n",
       "      <th>MntRegularProds</th>\n",
       "      <th>AcceptedCmpOverall</th>\n",
       "    </tr>\n",
       "  </thead>\n",
       "  <tbody>\n",
       "    <tr>\n",
       "      <th>0</th>\n",
       "      <td>58138.0</td>\n",
       "      <td>0</td>\n",
       "      <td>0</td>\n",
       "      <td>58</td>\n",
       "      <td>635</td>\n",
       "      <td>88</td>\n",
       "      <td>546</td>\n",
       "      <td>172</td>\n",
       "      <td>88</td>\n",
       "      <td>88</td>\n",
       "      <td>...</td>\n",
       "      <td>0</td>\n",
       "      <td>0</td>\n",
       "      <td>0</td>\n",
       "      <td>0</td>\n",
       "      <td>1</td>\n",
       "      <td>0</td>\n",
       "      <td>0</td>\n",
       "      <td>1529</td>\n",
       "      <td>1441</td>\n",
       "      <td>0</td>\n",
       "    </tr>\n",
       "    <tr>\n",
       "      <th>1</th>\n",
       "      <td>46344.0</td>\n",
       "      <td>1</td>\n",
       "      <td>1</td>\n",
       "      <td>38</td>\n",
       "      <td>11</td>\n",
       "      <td>1</td>\n",
       "      <td>6</td>\n",
       "      <td>2</td>\n",
       "      <td>1</td>\n",
       "      <td>6</td>\n",
       "      <td>...</td>\n",
       "      <td>0</td>\n",
       "      <td>0</td>\n",
       "      <td>0</td>\n",
       "      <td>0</td>\n",
       "      <td>1</td>\n",
       "      <td>0</td>\n",
       "      <td>0</td>\n",
       "      <td>21</td>\n",
       "      <td>15</td>\n",
       "      <td>0</td>\n",
       "    </tr>\n",
       "    <tr>\n",
       "      <th>2</th>\n",
       "      <td>71613.0</td>\n",
       "      <td>0</td>\n",
       "      <td>0</td>\n",
       "      <td>26</td>\n",
       "      <td>426</td>\n",
       "      <td>49</td>\n",
       "      <td>127</td>\n",
       "      <td>111</td>\n",
       "      <td>21</td>\n",
       "      <td>42</td>\n",
       "      <td>...</td>\n",
       "      <td>1</td>\n",
       "      <td>0</td>\n",
       "      <td>0</td>\n",
       "      <td>0</td>\n",
       "      <td>1</td>\n",
       "      <td>0</td>\n",
       "      <td>0</td>\n",
       "      <td>734</td>\n",
       "      <td>692</td>\n",
       "      <td>0</td>\n",
       "    </tr>\n",
       "    <tr>\n",
       "      <th>3</th>\n",
       "      <td>26646.0</td>\n",
       "      <td>1</td>\n",
       "      <td>0</td>\n",
       "      <td>26</td>\n",
       "      <td>11</td>\n",
       "      <td>4</td>\n",
       "      <td>20</td>\n",
       "      <td>10</td>\n",
       "      <td>3</td>\n",
       "      <td>5</td>\n",
       "      <td>...</td>\n",
       "      <td>1</td>\n",
       "      <td>0</td>\n",
       "      <td>0</td>\n",
       "      <td>0</td>\n",
       "      <td>1</td>\n",
       "      <td>0</td>\n",
       "      <td>0</td>\n",
       "      <td>48</td>\n",
       "      <td>43</td>\n",
       "      <td>0</td>\n",
       "    </tr>\n",
       "    <tr>\n",
       "      <th>4</th>\n",
       "      <td>58293.0</td>\n",
       "      <td>1</td>\n",
       "      <td>0</td>\n",
       "      <td>94</td>\n",
       "      <td>173</td>\n",
       "      <td>43</td>\n",
       "      <td>118</td>\n",
       "      <td>46</td>\n",
       "      <td>27</td>\n",
       "      <td>15</td>\n",
       "      <td>...</td>\n",
       "      <td>0</td>\n",
       "      <td>0</td>\n",
       "      <td>0</td>\n",
       "      <td>0</td>\n",
       "      <td>0</td>\n",
       "      <td>0</td>\n",
       "      <td>1</td>\n",
       "      <td>407</td>\n",
       "      <td>392</td>\n",
       "      <td>0</td>\n",
       "    </tr>\n",
       "    <tr>\n",
       "      <th>...</th>\n",
       "      <td>...</td>\n",
       "      <td>...</td>\n",
       "      <td>...</td>\n",
       "      <td>...</td>\n",
       "      <td>...</td>\n",
       "      <td>...</td>\n",
       "      <td>...</td>\n",
       "      <td>...</td>\n",
       "      <td>...</td>\n",
       "      <td>...</td>\n",
       "      <td>...</td>\n",
       "      <td>...</td>\n",
       "      <td>...</td>\n",
       "      <td>...</td>\n",
       "      <td>...</td>\n",
       "      <td>...</td>\n",
       "      <td>...</td>\n",
       "      <td>...</td>\n",
       "      <td>...</td>\n",
       "      <td>...</td>\n",
       "      <td>...</td>\n",
       "    </tr>\n",
       "    <tr>\n",
       "      <th>2198</th>\n",
       "      <td>26816.0</td>\n",
       "      <td>0</td>\n",
       "      <td>0</td>\n",
       "      <td>50</td>\n",
       "      <td>5</td>\n",
       "      <td>1</td>\n",
       "      <td>6</td>\n",
       "      <td>3</td>\n",
       "      <td>4</td>\n",
       "      <td>3</td>\n",
       "      <td>...</td>\n",
       "      <td>0</td>\n",
       "      <td>0</td>\n",
       "      <td>0</td>\n",
       "      <td>0</td>\n",
       "      <td>1</td>\n",
       "      <td>0</td>\n",
       "      <td>0</td>\n",
       "      <td>19</td>\n",
       "      <td>16</td>\n",
       "      <td>0</td>\n",
       "    </tr>\n",
       "    <tr>\n",
       "      <th>2200</th>\n",
       "      <td>61223.0</td>\n",
       "      <td>0</td>\n",
       "      <td>1</td>\n",
       "      <td>46</td>\n",
       "      <td>709</td>\n",
       "      <td>43</td>\n",
       "      <td>182</td>\n",
       "      <td>42</td>\n",
       "      <td>118</td>\n",
       "      <td>247</td>\n",
       "      <td>...</td>\n",
       "      <td>0</td>\n",
       "      <td>0</td>\n",
       "      <td>0</td>\n",
       "      <td>0</td>\n",
       "      <td>1</td>\n",
       "      <td>0</td>\n",
       "      <td>0</td>\n",
       "      <td>1094</td>\n",
       "      <td>847</td>\n",
       "      <td>0</td>\n",
       "    </tr>\n",
       "    <tr>\n",
       "      <th>2202</th>\n",
       "      <td>56981.0</td>\n",
       "      <td>0</td>\n",
       "      <td>0</td>\n",
       "      <td>91</td>\n",
       "      <td>908</td>\n",
       "      <td>48</td>\n",
       "      <td>217</td>\n",
       "      <td>32</td>\n",
       "      <td>12</td>\n",
       "      <td>24</td>\n",
       "      <td>...</td>\n",
       "      <td>0</td>\n",
       "      <td>0</td>\n",
       "      <td>0</td>\n",
       "      <td>0</td>\n",
       "      <td>1</td>\n",
       "      <td>0</td>\n",
       "      <td>0</td>\n",
       "      <td>1217</td>\n",
       "      <td>1193</td>\n",
       "      <td>1</td>\n",
       "    </tr>\n",
       "    <tr>\n",
       "      <th>2203</th>\n",
       "      <td>69245.0</td>\n",
       "      <td>0</td>\n",
       "      <td>1</td>\n",
       "      <td>8</td>\n",
       "      <td>428</td>\n",
       "      <td>30</td>\n",
       "      <td>214</td>\n",
       "      <td>80</td>\n",
       "      <td>30</td>\n",
       "      <td>61</td>\n",
       "      <td>...</td>\n",
       "      <td>1</td>\n",
       "      <td>0</td>\n",
       "      <td>0</td>\n",
       "      <td>0</td>\n",
       "      <td>0</td>\n",
       "      <td>1</td>\n",
       "      <td>0</td>\n",
       "      <td>782</td>\n",
       "      <td>721</td>\n",
       "      <td>0</td>\n",
       "    </tr>\n",
       "    <tr>\n",
       "      <th>2204</th>\n",
       "      <td>52869.0</td>\n",
       "      <td>1</td>\n",
       "      <td>1</td>\n",
       "      <td>40</td>\n",
       "      <td>84</td>\n",
       "      <td>3</td>\n",
       "      <td>61</td>\n",
       "      <td>2</td>\n",
       "      <td>1</td>\n",
       "      <td>21</td>\n",
       "      <td>...</td>\n",
       "      <td>0</td>\n",
       "      <td>0</td>\n",
       "      <td>0</td>\n",
       "      <td>0</td>\n",
       "      <td>0</td>\n",
       "      <td>0</td>\n",
       "      <td>1</td>\n",
       "      <td>151</td>\n",
       "      <td>130</td>\n",
       "      <td>0</td>\n",
       "    </tr>\n",
       "  </tbody>\n",
       "</table>\n",
       "<p>2021 rows × 39 columns</p>\n",
       "</div>"
      ],
      "text/plain": [
       "       Income  Kidhome  Teenhome  Recency  MntWines  MntFruits  \\\n",
       "0     58138.0        0         0       58       635         88   \n",
       "1     46344.0        1         1       38        11          1   \n",
       "2     71613.0        0         0       26       426         49   \n",
       "3     26646.0        1         0       26        11          4   \n",
       "4     58293.0        1         0       94       173         43   \n",
       "...       ...      ...       ...      ...       ...        ...   \n",
       "2198  26816.0        0         0       50         5          1   \n",
       "2200  61223.0        0         1       46       709         43   \n",
       "2202  56981.0        0         0       91       908         48   \n",
       "2203  69245.0        0         1        8       428         30   \n",
       "2204  52869.0        1         1       40        84          3   \n",
       "\n",
       "      MntMeatProducts  MntFishProducts  MntSweetProducts  MntGoldProds  ...  \\\n",
       "0                 546              172                88            88  ...   \n",
       "1                   6                2                 1             6  ...   \n",
       "2                 127              111                21            42  ...   \n",
       "3                  20               10                 3             5  ...   \n",
       "4                 118               46                27            15  ...   \n",
       "...               ...              ...               ...           ...  ...   \n",
       "2198                6                3                 4             3  ...   \n",
       "2200              182               42               118           247  ...   \n",
       "2202              217               32                12            24  ...   \n",
       "2203              214               80                30            61  ...   \n",
       "2204               61                2                 1            21  ...   \n",
       "\n",
       "      marital_Together  marital_Widow  education_2n Cycle  education_Basic  \\\n",
       "0                    0              0                   0                0   \n",
       "1                    0              0                   0                0   \n",
       "2                    1              0                   0                0   \n",
       "3                    1              0                   0                0   \n",
       "4                    0              0                   0                0   \n",
       "...                ...            ...                 ...              ...   \n",
       "2198                 0              0                   0                0   \n",
       "2200                 0              0                   0                0   \n",
       "2202                 0              0                   0                0   \n",
       "2203                 1              0                   0                0   \n",
       "2204                 0              0                   0                0   \n",
       "\n",
       "      education_Graduation  education_Master  education_PhD  MntTotal  \\\n",
       "0                        1                 0              0      1529   \n",
       "1                        1                 0              0        21   \n",
       "2                        1                 0              0       734   \n",
       "3                        1                 0              0        48   \n",
       "4                        0                 0              1       407   \n",
       "...                    ...               ...            ...       ...   \n",
       "2198                     1                 0              0        19   \n",
       "2200                     1                 0              0      1094   \n",
       "2202                     1                 0              0      1217   \n",
       "2203                     0                 1              0       782   \n",
       "2204                     0                 0              1       151   \n",
       "\n",
       "      MntRegularProds  AcceptedCmpOverall  \n",
       "0                1441                   0  \n",
       "1                  15                   0  \n",
       "2                 692                   0  \n",
       "3                  43                   0  \n",
       "4                 392                   0  \n",
       "...               ...                 ...  \n",
       "2198               16                   0  \n",
       "2200              847                   0  \n",
       "2202             1193                   1  \n",
       "2203              721                   0  \n",
       "2204              130                   0  \n",
       "\n",
       "[2021 rows x 39 columns]"
      ]
     },
     "execution_count": 18,
     "metadata": {},
     "output_type": "execute_result"
    }
   ],
   "source": [
    "# Remove duplicate rows\n",
    "cleaned_data = data.drop_duplicates()\n",
    "cleaned_data\n"
   ]
  },
  {
   "cell_type": "code",
   "execution_count": 19,
   "id": "a43b948b",
   "metadata": {},
   "outputs": [
    {
     "name": "stdout",
     "output_type": "stream",
     "text": [
      "Number of duplicate rows: 0\n"
     ]
    }
   ],
   "source": [
    "duplicates=cleaned_data.duplicated()\n",
    "num_duplicates = duplicates.sum()\n",
    "print(\"Number of duplicate rows:\", num_duplicates)"
   ]
  },
  {
   "cell_type": "markdown",
   "id": "14b88b02",
   "metadata": {},
   "source": [
    "Now we can see that after cleaning dataset we find zero duplicate rows"
   ]
  },
  {
   "cell_type": "code",
   "execution_count": 20,
   "id": "eb4be019",
   "metadata": {},
   "outputs": [
    {
     "data": {
      "text/plain": [
       "(2021, 39)"
      ]
     },
     "execution_count": 20,
     "metadata": {},
     "output_type": "execute_result"
    }
   ],
   "source": [
    "cleaned_data.shape"
   ]
  },
  {
   "cell_type": "markdown",
   "id": "95abfbe5",
   "metadata": {},
   "source": [
    "# OR"
   ]
  },
  {
   "cell_type": "markdown",
   "id": "81b39274",
   "metadata": {},
   "source": [
    "# Assessing unique values"
   ]
  },
  {
   "cell_type": "markdown",
   "id": "965ea463",
   "metadata": {},
   "source": [
    "Let's check the unique values in each column. If a column has the same values then we cannot use this column in our analysis and can remove it from the data frame."
   ]
  },
  {
   "cell_type": "code",
   "execution_count": 21,
   "id": "d9754f13",
   "metadata": {},
   "outputs": [
    {
     "data": {
      "text/plain": [
       "Income                  1963\n",
       "Kidhome                    3\n",
       "Teenhome                   3\n",
       "Recency                  100\n",
       "MntWines                 775\n",
       "MntFruits                158\n",
       "MntMeatProducts          551\n",
       "MntFishProducts          182\n",
       "MntSweetProducts         176\n",
       "MntGoldProds             212\n",
       "NumDealsPurchases         15\n",
       "NumWebPurchases           15\n",
       "NumCatalogPurchases       13\n",
       "NumStorePurchases         14\n",
       "NumWebVisitsMonth         16\n",
       "AcceptedCmp3               2\n",
       "AcceptedCmp4               2\n",
       "AcceptedCmp5               2\n",
       "AcceptedCmp1               2\n",
       "AcceptedCmp2               2\n",
       "Complain                   2\n",
       "Z_CostContact              1\n",
       "Z_Revenue                  1\n",
       "Response                   2\n",
       "Age                       56\n",
       "Customer_Days            662\n",
       "marital_Divorced           2\n",
       "marital_Married            2\n",
       "marital_Single             2\n",
       "marital_Together           2\n",
       "marital_Widow              2\n",
       "education_2n Cycle         2\n",
       "education_Basic            2\n",
       "education_Graduation       2\n",
       "education_Master           2\n",
       "education_PhD              2\n",
       "MntTotal                 897\n",
       "MntRegularProds          974\n",
       "AcceptedCmpOverall         5\n",
       "dtype: int64"
      ]
     },
     "execution_count": 21,
     "metadata": {},
     "output_type": "execute_result"
    }
   ],
   "source": [
    "data.nunique()"
   ]
  },
  {
   "cell_type": "markdown",
   "id": "73c4cfaa",
   "metadata": {},
   "source": [
    "Columns Z_CostContact and Z_Revenue have all the same values. These columns will not help us to understand our customers better. We can drop these columns from the data frame."
   ]
  },
  {
   "cell_type": "code",
   "execution_count": 22,
   "id": "741db016",
   "metadata": {},
   "outputs": [],
   "source": [
    "data.drop(columns=['Z_CostContact','Z_Revenue'],inplace=True)"
   ]
  },
  {
   "cell_type": "code",
   "execution_count": 23,
   "id": "f70ae0e5",
   "metadata": {},
   "outputs": [
    {
     "data": {
      "text/plain": [
       "(2205, 37)"
      ]
     },
     "execution_count": 23,
     "metadata": {},
     "output_type": "execute_result"
    }
   ],
   "source": [
    "data.shape"
   ]
  },
  {
   "cell_type": "markdown",
   "id": "1c860e72",
   "metadata": {},
   "source": [
    "As In Assessing unique values we have dropped less no columns as compared to  dropping duplicates  rows.Therefore we will do our analysis on dataset having unique number of values,because it gives us more accurate  results."
   ]
  },
  {
   "cell_type": "markdown",
   "id": "6a503828",
   "metadata": {},
   "source": [
    "# Data Exploration"
   ]
  },
  {
   "cell_type": "markdown",
   "id": "97086d26",
   "metadata": {},
   "source": [
    "Box plot for the total amount spent on all products (MntTotal)"
   ]
  },
  {
   "cell_type": "markdown",
   "id": "f4f498e3",
   "metadata": {},
   "source": [
    "Our analysis will be focused on total amount spent on all products (MntTotal). Boxplot will help us to find outliers if any."
   ]
  },
  {
   "cell_type": "code",
   "execution_count": 24,
   "id": "3707dae4",
   "metadata": {},
   "outputs": [
    {
     "data": {
      "image/png": "[encoded data removed]",
      "text/plain": [
       "<Figure size 432x288 with 1 Axes>"
      ]
     },
     "metadata": {
      "needs_background": "light"
     },
     "output_type": "display_data"
    }
   ],
   "source": [
    "plt.figure(figsize=(6, 4))  \n",
    "sns.boxplot(data=data, y='MntTotal')\n",
    "plt.title('Box Plot for MntTotal')\n",
    "plt.ylabel('MntTotal')\n",
    "plt.show()"
   ]
  },
  {
   "cell_type": "markdown",
   "id": "7bca3504",
   "metadata": {},
   "source": [
    "# Outliers"
   ]
  },
  {
   "cell_type": "markdown",
   "id": "75c747be",
   "metadata": {},
   "source": [
    "Outliers refer to data points that significantly differ from other observations in a dataset. These data points can skew statistical analyses and models, potentially leading to incorrect conclusions if not properly addressed. Identifying and handling outliers is an important step in data preprocessing and analysis."
   ]
  },
  {
   "cell_type": "markdown",
   "id": "0607b93b",
   "metadata": {},
   "source": [
    "The box plot spotted a few outliers in the MntTotal. Let's take a closer look at the outliers"
   ]
  },
  {
   "cell_type": "code",
   "execution_count": 25,
   "id": "3983d1ad",
   "metadata": {
    "scrolled": true
   },
   "outputs": [
    {
     "data": {
      "text/html": [
       "<div>\n",
       "<style scoped>\n",
       "    .dataframe tbody tr th:only-of-type {\n",
       "        vertical-align: middle;\n",
       "    }\n",
       "\n",
       "    .dataframe tbody tr th {\n",
       "        vertical-align: top;\n",
       "    }\n",
       "\n",
       "    .dataframe thead th {\n",
       "        text-align: right;\n",
       "    }\n",
       "</style>\n",
       "<table border=\"1\" class=\"dataframe\">\n",
       "  <thead>\n",
       "    <tr style=\"text-align: right;\">\n",
       "      <th></th>\n",
       "      <th>Income</th>\n",
       "      <th>Kidhome</th>\n",
       "      <th>Teenhome</th>\n",
       "      <th>Recency</th>\n",
       "      <th>MntWines</th>\n",
       "      <th>MntFruits</th>\n",
       "      <th>MntMeatProducts</th>\n",
       "      <th>MntFishProducts</th>\n",
       "      <th>MntSweetProducts</th>\n",
       "      <th>MntGoldProds</th>\n",
       "      <th>...</th>\n",
       "      <th>marital_Together</th>\n",
       "      <th>marital_Widow</th>\n",
       "      <th>education_2n Cycle</th>\n",
       "      <th>education_Basic</th>\n",
       "      <th>education_Graduation</th>\n",
       "      <th>education_Master</th>\n",
       "      <th>education_PhD</th>\n",
       "      <th>MntTotal</th>\n",
       "      <th>MntRegularProds</th>\n",
       "      <th>AcceptedCmpOverall</th>\n",
       "    </tr>\n",
       "  </thead>\n",
       "  <tbody>\n",
       "    <tr>\n",
       "      <th>1159</th>\n",
       "      <td>90638.0</td>\n",
       "      <td>0</td>\n",
       "      <td>0</td>\n",
       "      <td>29</td>\n",
       "      <td>1156</td>\n",
       "      <td>120</td>\n",
       "      <td>915</td>\n",
       "      <td>94</td>\n",
       "      <td>144</td>\n",
       "      <td>96</td>\n",
       "      <td>...</td>\n",
       "      <td>0</td>\n",
       "      <td>0</td>\n",
       "      <td>0</td>\n",
       "      <td>0</td>\n",
       "      <td>0</td>\n",
       "      <td>1</td>\n",
       "      <td>0</td>\n",
       "      <td>2429</td>\n",
       "      <td>2333</td>\n",
       "      <td>1</td>\n",
       "    </tr>\n",
       "    <tr>\n",
       "      <th>1467</th>\n",
       "      <td>87679.0</td>\n",
       "      <td>0</td>\n",
       "      <td>0</td>\n",
       "      <td>62</td>\n",
       "      <td>1259</td>\n",
       "      <td>172</td>\n",
       "      <td>815</td>\n",
       "      <td>97</td>\n",
       "      <td>148</td>\n",
       "      <td>33</td>\n",
       "      <td>...</td>\n",
       "      <td>1</td>\n",
       "      <td>0</td>\n",
       "      <td>0</td>\n",
       "      <td>0</td>\n",
       "      <td>1</td>\n",
       "      <td>0</td>\n",
       "      <td>0</td>\n",
       "      <td>2491</td>\n",
       "      <td>2458</td>\n",
       "      <td>3</td>\n",
       "    </tr>\n",
       "    <tr>\n",
       "      <th>1547</th>\n",
       "      <td>90638.0</td>\n",
       "      <td>0</td>\n",
       "      <td>0</td>\n",
       "      <td>29</td>\n",
       "      <td>1156</td>\n",
       "      <td>120</td>\n",
       "      <td>915</td>\n",
       "      <td>94</td>\n",
       "      <td>144</td>\n",
       "      <td>96</td>\n",
       "      <td>...</td>\n",
       "      <td>0</td>\n",
       "      <td>0</td>\n",
       "      <td>0</td>\n",
       "      <td>0</td>\n",
       "      <td>0</td>\n",
       "      <td>1</td>\n",
       "      <td>0</td>\n",
       "      <td>2429</td>\n",
       "      <td>2333</td>\n",
       "      <td>1</td>\n",
       "    </tr>\n",
       "  </tbody>\n",
       "</table>\n",
       "<p>3 rows × 37 columns</p>\n",
       "</div>"
      ],
      "text/plain": [
       "       Income  Kidhome  Teenhome  Recency  MntWines  MntFruits  \\\n",
       "1159  90638.0        0         0       29      1156        120   \n",
       "1467  87679.0        0         0       62      1259        172   \n",
       "1547  90638.0        0         0       29      1156        120   \n",
       "\n",
       "      MntMeatProducts  MntFishProducts  MntSweetProducts  MntGoldProds  ...  \\\n",
       "1159              915               94               144            96  ...   \n",
       "1467              815               97               148            33  ...   \n",
       "1547              915               94               144            96  ...   \n",
       "\n",
       "      marital_Together  marital_Widow  education_2n Cycle  education_Basic  \\\n",
       "1159                 0              0                   0                0   \n",
       "1467                 1              0                   0                0   \n",
       "1547                 0              0                   0                0   \n",
       "\n",
       "      education_Graduation  education_Master  education_PhD  MntTotal  \\\n",
       "1159                     0                 1              0      2429   \n",
       "1467                     1                 0              0      2491   \n",
       "1547                     0                 1              0      2429   \n",
       "\n",
       "      MntRegularProds  AcceptedCmpOverall  \n",
       "1159             2333                   1  \n",
       "1467             2458                   3  \n",
       "1547             2333                   1  \n",
       "\n",
       "[3 rows x 37 columns]"
      ]
     },
     "execution_count": 25,
     "metadata": {},
     "output_type": "execute_result"
    }
   ],
   "source": [
    "Q1 = data['MntTotal'].quantile(0.25)\n",
    "Q3 = data['MntTotal'].quantile(0.75)\n",
    "IQR = Q3 - Q1\n",
    "lower_bound = Q1 - 1.5 * IQR\n",
    "upper_bound = Q3 + 1.5 * IQR\n",
    "outliers = data[(data['MntTotal'] < lower_bound) | (data['MntTotal'] > upper_bound)]\n",
    "outliers.head()#these values to be filter.."
   ]
  },
  {
   "cell_type": "code",
   "execution_count": 26,
   "id": "d4732cfd",
   "metadata": {},
   "outputs": [
    {
     "data": {
      "text/plain": [
       "count    2205.000000\n",
       "mean      562.596372\n",
       "std       575.402212\n",
       "min         4.000000\n",
       "25%        56.000000\n",
       "50%       343.000000\n",
       "75%       964.000000\n",
       "max      2326.000000\n",
       "Name: MntTotal, dtype: float64"
      ]
     },
     "execution_count": 26,
     "metadata": {},
     "output_type": "execute_result"
    }
   ],
   "source": [
    "clipped_data = np.clip(data['MntTotal'], lower_bound, upper_bound)#Another or one of the method to remove and handle outliers.\n",
    "clipped_data.describe()"
   ]
  },
  {
   "cell_type": "markdown",
   "id": "5a14d44a",
   "metadata": {},
   "source": [
    "# Handling Outliers:"
   ]
  },
  {
   "cell_type": "markdown",
   "id": "5c2eca1a",
   "metadata": {},
   "source": [
    " In some cases, outliers can be removed from the dataset if they are determined to be errors or anomalies."
   ]
  },
  {
   "cell_type": "code",
   "execution_count": 26,
   "id": "ead0ad7f",
   "metadata": {},
   "outputs": [
    {
     "data": {
      "text/html": [
       "<div>\n",
       "<style scoped>\n",
       "    .dataframe tbody tr th:only-of-type {\n",
       "        vertical-align: middle;\n",
       "    }\n",
       "\n",
       "    .dataframe tbody tr th {\n",
       "        vertical-align: top;\n",
       "    }\n",
       "\n",
       "    .dataframe thead th {\n",
       "        text-align: right;\n",
       "    }\n",
       "</style>\n",
       "<table border=\"1\" class=\"dataframe\">\n",
       "  <thead>\n",
       "    <tr style=\"text-align: right;\">\n",
       "      <th></th>\n",
       "      <th>Income</th>\n",
       "      <th>Kidhome</th>\n",
       "      <th>Teenhome</th>\n",
       "      <th>Recency</th>\n",
       "      <th>MntWines</th>\n",
       "      <th>MntFruits</th>\n",
       "      <th>MntMeatProducts</th>\n",
       "      <th>MntFishProducts</th>\n",
       "      <th>MntSweetProducts</th>\n",
       "      <th>MntGoldProds</th>\n",
       "      <th>...</th>\n",
       "      <th>marital_Together</th>\n",
       "      <th>marital_Widow</th>\n",
       "      <th>education_2n Cycle</th>\n",
       "      <th>education_Basic</th>\n",
       "      <th>education_Graduation</th>\n",
       "      <th>education_Master</th>\n",
       "      <th>education_PhD</th>\n",
       "      <th>MntTotal</th>\n",
       "      <th>MntRegularProds</th>\n",
       "      <th>AcceptedCmpOverall</th>\n",
       "    </tr>\n",
       "  </thead>\n",
       "  <tbody>\n",
       "    <tr>\n",
       "      <th>count</th>\n",
       "      <td>2202.000000</td>\n",
       "      <td>2202.000000</td>\n",
       "      <td>2202.000000</td>\n",
       "      <td>2202.000000</td>\n",
       "      <td>2202.000000</td>\n",
       "      <td>2202.000000</td>\n",
       "      <td>2202.000000</td>\n",
       "      <td>2202.000000</td>\n",
       "      <td>2202.000000</td>\n",
       "      <td>2202.000000</td>\n",
       "      <td>...</td>\n",
       "      <td>2202.000000</td>\n",
       "      <td>2202.000000</td>\n",
       "      <td>2202.000000</td>\n",
       "      <td>2202.000000</td>\n",
       "      <td>2202.000000</td>\n",
       "      <td>2202.000000</td>\n",
       "      <td>2202.000000</td>\n",
       "      <td>2202.000000</td>\n",
       "      <td>2202.000000</td>\n",
       "      <td>2202.000000</td>\n",
       "    </tr>\n",
       "    <tr>\n",
       "      <th>mean</th>\n",
       "      <td>51570.283379</td>\n",
       "      <td>0.442779</td>\n",
       "      <td>0.507266</td>\n",
       "      <td>49.021344</td>\n",
       "      <td>304.960036</td>\n",
       "      <td>26.252044</td>\n",
       "      <td>164.336058</td>\n",
       "      <td>37.678474</td>\n",
       "      <td>26.967302</td>\n",
       "      <td>44.014986</td>\n",
       "      <td>...</td>\n",
       "      <td>0.257493</td>\n",
       "      <td>0.034514</td>\n",
       "      <td>0.089918</td>\n",
       "      <td>0.024523</td>\n",
       "      <td>0.504995</td>\n",
       "      <td>0.164396</td>\n",
       "      <td>0.216167</td>\n",
       "      <td>560.193915</td>\n",
       "      <td>516.178928</td>\n",
       "      <td>0.297457</td>\n",
       "    </tr>\n",
       "    <tr>\n",
       "      <th>std</th>\n",
       "      <td>20679.438848</td>\n",
       "      <td>0.537250</td>\n",
       "      <td>0.544429</td>\n",
       "      <td>28.944211</td>\n",
       "      <td>336.135586</td>\n",
       "      <td>39.589747</td>\n",
       "      <td>216.312982</td>\n",
       "      <td>54.821185</td>\n",
       "      <td>40.926101</td>\n",
       "      <td>51.747221</td>\n",
       "      <td>...</td>\n",
       "      <td>0.437353</td>\n",
       "      <td>0.182587</td>\n",
       "      <td>0.286130</td>\n",
       "      <td>0.154702</td>\n",
       "      <td>0.500089</td>\n",
       "      <td>0.370719</td>\n",
       "      <td>0.411723</td>\n",
       "      <td>572.096830</td>\n",
       "      <td>549.962471</td>\n",
       "      <td>0.678134</td>\n",
       "    </tr>\n",
       "    <tr>\n",
       "      <th>min</th>\n",
       "      <td>1730.000000</td>\n",
       "      <td>0.000000</td>\n",
       "      <td>0.000000</td>\n",
       "      <td>0.000000</td>\n",
       "      <td>0.000000</td>\n",
       "      <td>0.000000</td>\n",
       "      <td>0.000000</td>\n",
       "      <td>0.000000</td>\n",
       "      <td>0.000000</td>\n",
       "      <td>0.000000</td>\n",
       "      <td>...</td>\n",
       "      <td>0.000000</td>\n",
       "      <td>0.000000</td>\n",
       "      <td>0.000000</td>\n",
       "      <td>0.000000</td>\n",
       "      <td>0.000000</td>\n",
       "      <td>0.000000</td>\n",
       "      <td>0.000000</td>\n",
       "      <td>4.000000</td>\n",
       "      <td>-283.000000</td>\n",
       "      <td>0.000000</td>\n",
       "    </tr>\n",
       "    <tr>\n",
       "      <th>25%</th>\n",
       "      <td>35182.500000</td>\n",
       "      <td>0.000000</td>\n",
       "      <td>0.000000</td>\n",
       "      <td>24.000000</td>\n",
       "      <td>24.000000</td>\n",
       "      <td>2.000000</td>\n",
       "      <td>16.000000</td>\n",
       "      <td>3.000000</td>\n",
       "      <td>1.000000</td>\n",
       "      <td>9.000000</td>\n",
       "      <td>...</td>\n",
       "      <td>0.000000</td>\n",
       "      <td>0.000000</td>\n",
       "      <td>0.000000</td>\n",
       "      <td>0.000000</td>\n",
       "      <td>0.000000</td>\n",
       "      <td>0.000000</td>\n",
       "      <td>0.000000</td>\n",
       "      <td>56.000000</td>\n",
       "      <td>42.000000</td>\n",
       "      <td>0.000000</td>\n",
       "    </tr>\n",
       "    <tr>\n",
       "      <th>50%</th>\n",
       "      <td>51258.500000</td>\n",
       "      <td>0.000000</td>\n",
       "      <td>0.000000</td>\n",
       "      <td>49.000000</td>\n",
       "      <td>176.500000</td>\n",
       "      <td>8.000000</td>\n",
       "      <td>68.000000</td>\n",
       "      <td>12.000000</td>\n",
       "      <td>8.000000</td>\n",
       "      <td>25.000000</td>\n",
       "      <td>...</td>\n",
       "      <td>0.000000</td>\n",
       "      <td>0.000000</td>\n",
       "      <td>0.000000</td>\n",
       "      <td>0.000000</td>\n",
       "      <td>1.000000</td>\n",
       "      <td>0.000000</td>\n",
       "      <td>0.000000</td>\n",
       "      <td>342.500000</td>\n",
       "      <td>288.000000</td>\n",
       "      <td>0.000000</td>\n",
       "    </tr>\n",
       "    <tr>\n",
       "      <th>75%</th>\n",
       "      <td>68146.500000</td>\n",
       "      <td>1.000000</td>\n",
       "      <td>1.000000</td>\n",
       "      <td>74.000000</td>\n",
       "      <td>505.000000</td>\n",
       "      <td>33.000000</td>\n",
       "      <td>230.750000</td>\n",
       "      <td>50.000000</td>\n",
       "      <td>33.000000</td>\n",
       "      <td>56.000000</td>\n",
       "      <td>...</td>\n",
       "      <td>1.000000</td>\n",
       "      <td>0.000000</td>\n",
       "      <td>0.000000</td>\n",
       "      <td>0.000000</td>\n",
       "      <td>1.000000</td>\n",
       "      <td>0.000000</td>\n",
       "      <td>0.000000</td>\n",
       "      <td>962.000000</td>\n",
       "      <td>883.000000</td>\n",
       "      <td>0.000000</td>\n",
       "    </tr>\n",
       "    <tr>\n",
       "      <th>max</th>\n",
       "      <td>113734.000000</td>\n",
       "      <td>2.000000</td>\n",
       "      <td>2.000000</td>\n",
       "      <td>99.000000</td>\n",
       "      <td>1493.000000</td>\n",
       "      <td>199.000000</td>\n",
       "      <td>1725.000000</td>\n",
       "      <td>259.000000</td>\n",
       "      <td>262.000000</td>\n",
       "      <td>321.000000</td>\n",
       "      <td>...</td>\n",
       "      <td>1.000000</td>\n",
       "      <td>1.000000</td>\n",
       "      <td>1.000000</td>\n",
       "      <td>1.000000</td>\n",
       "      <td>1.000000</td>\n",
       "      <td>1.000000</td>\n",
       "      <td>1.000000</td>\n",
       "      <td>2304.000000</td>\n",
       "      <td>2259.000000</td>\n",
       "      <td>4.000000</td>\n",
       "    </tr>\n",
       "  </tbody>\n",
       "</table>\n",
       "<p>8 rows × 37 columns</p>\n",
       "</div>"
      ],
      "text/plain": [
       "              Income      Kidhome     Teenhome      Recency     MntWines  \\\n",
       "count    2202.000000  2202.000000  2202.000000  2202.000000  2202.000000   \n",
       "mean    51570.283379     0.442779     0.507266    49.021344   304.960036   \n",
       "std     20679.438848     0.537250     0.544429    28.944211   336.135586   \n",
       "min      1730.000000     0.000000     0.000000     0.000000     0.000000   \n",
       "25%     35182.500000     0.000000     0.000000    24.000000    24.000000   \n",
       "50%     51258.500000     0.000000     0.000000    49.000000   176.500000   \n",
       "75%     68146.500000     1.000000     1.000000    74.000000   505.000000   \n",
       "max    113734.000000     2.000000     2.000000    99.000000  1493.000000   \n",
       "\n",
       "         MntFruits  MntMeatProducts  MntFishProducts  MntSweetProducts  \\\n",
       "count  2202.000000      2202.000000      2202.000000       2202.000000   \n",
       "mean     26.252044       164.336058        37.678474         26.967302   \n",
       "std      39.589747       216.312982        54.821185         40.926101   \n",
       "min       0.000000         0.000000         0.000000          0.000000   \n",
       "25%       2.000000        16.000000         3.000000          1.000000   \n",
       "50%       8.000000        68.000000        12.000000          8.000000   \n",
       "75%      33.000000       230.750000        50.000000         33.000000   \n",
       "max     199.000000      1725.000000       259.000000        262.000000   \n",
       "\n",
       "       MntGoldProds  ...  marital_Together  marital_Widow  education_2n Cycle  \\\n",
       "count   2202.000000  ...       2202.000000    2202.000000         2202.000000   \n",
       "mean      44.014986  ...          0.257493       0.034514            0.089918   \n",
       "std       51.747221  ...          0.437353       0.182587            0.286130   \n",
       "min        0.000000  ...          0.000000       0.000000            0.000000   \n",
       "25%        9.000000  ...          0.000000       0.000000            0.000000   \n",
       "50%       25.000000  ...          0.000000       0.000000            0.000000   \n",
       "75%       56.000000  ...          1.000000       0.000000            0.000000   \n",
       "max      321.000000  ...          1.000000       1.000000            1.000000   \n",
       "\n",
       "       education_Basic  education_Graduation  education_Master  education_PhD  \\\n",
       "count      2202.000000           2202.000000       2202.000000    2202.000000   \n",
       "mean          0.024523              0.504995          0.164396       0.216167   \n",
       "std           0.154702              0.500089          0.370719       0.411723   \n",
       "min           0.000000              0.000000          0.000000       0.000000   \n",
       "25%           0.000000              0.000000          0.000000       0.000000   \n",
       "50%           0.000000              1.000000          0.000000       0.000000   \n",
       "75%           0.000000              1.000000          0.000000       0.000000   \n",
       "max           1.000000              1.000000          1.000000       1.000000   \n",
       "\n",
       "          MntTotal  MntRegularProds  AcceptedCmpOverall  \n",
       "count  2202.000000      2202.000000         2202.000000  \n",
       "mean    560.193915       516.178928            0.297457  \n",
       "std     572.096830       549.962471            0.678134  \n",
       "min       4.000000      -283.000000            0.000000  \n",
       "25%      56.000000        42.000000            0.000000  \n",
       "50%     342.500000       288.000000            0.000000  \n",
       "75%     962.000000       883.000000            0.000000  \n",
       "max    2304.000000      2259.000000            4.000000  \n",
       "\n",
       "[8 rows x 37 columns]"
      ]
     },
     "execution_count": 26,
     "metadata": {},
     "output_type": "execute_result"
    }
   ],
   "source": [
    "data = data[(data['MntTotal'] > lower_bound) & (data['MntTotal'] < upper_bound)]\n",
    "data.describe()"
   ]
  },
  {
   "cell_type": "markdown",
   "id": "d39898a5",
   "metadata": {},
   "source": [
    "# Box plot and histogram for income"
   ]
  },
  {
   "cell_type": "code",
   "execution_count": 27,
   "id": "0b0a47ce",
   "metadata": {},
   "outputs": [
    {
     "data": {
      "image/png": "[encoded data removed]",
      "text/plain": [
       "<Figure size 432x288 with 1 Axes>"
      ]
     },
     "metadata": {
      "needs_background": "light"
     },
     "output_type": "display_data"
    }
   ],
   "source": [
    "plt.figure(figsize=(6, 4))  \n",
    "sns.boxplot(data=data, y='Income', palette='viridis')\n",
    "plt.title('Box Plot for Income')\n",
    "plt.ylabel('Income')\n",
    "plt.show()"
   ]
  },
  {
   "cell_type": "code",
   "execution_count": 28,
   "id": "019f61b7",
   "metadata": {},
   "outputs": [
    {
     "data": {
      "image/png": "[encoded data removed]",
      "text/plain": [
       "<Figure size 576x432 with 1 Axes>"
      ]
     },
     "metadata": {
      "needs_background": "light"
     },
     "output_type": "display_data"
    }
   ],
   "source": [
    "plt.figure(figsize=(8, 6))  \n",
    "sns.histplot(data=data, x='Income', bins=30, kde=True)\n",
    "plt.title('Histogram for Income')\n",
    "plt.xlabel('Income')\n",
    "plt.ylabel('Frequency')\n",
    "plt.show()"
   ]
  },
  {
   "cell_type": "markdown",
   "id": "73b4db2e",
   "metadata": {},
   "source": [
    "Income distribution is close to normal distribution with no outliers"
   ]
  },
  {
   "cell_type": "markdown",
   "id": "10cf02a9",
   "metadata": {},
   "source": [
    "# Histogram for age"
   ]
  },
  {
   "cell_type": "code",
   "execution_count": 29,
   "id": "1c9250e6",
   "metadata": {},
   "outputs": [
    {
     "data": {
      "image/png": "[encoded data removed]",
      "text/plain": [
       "<Figure size 576x432 with 1 Axes>"
      ]
     },
     "metadata": {
      "needs_background": "light"
     },
     "output_type": "display_data"
    }
   ],
   "source": [
    "plt.figure(figsize=(8, 6))  \n",
    "sns.histplot(data=data, x='Age', bins=30, kde=True)\n",
    "plt.title('Histogram for Age')\n",
    "plt.xlabel('Age')\n",
    "plt.ylabel('Frequency')\n",
    "plt.show()"
   ]
  },
  {
   "cell_type": "code",
   "execution_count": 30,
   "id": "b9254f75",
   "metadata": {},
   "outputs": [
    {
     "name": "stdout",
     "output_type": "stream",
     "text": [
      "Skewness: 0.091227\n",
      "Kurtosis: -0.796125\n"
     ]
    }
   ],
   "source": [
    "print(\"Skewness: %f\" % data['Age'].skew())\n",
    "print(\"Kurtosis: %f\" % data['Age'].kurt())"
   ]
  },
  {
   "cell_type": "markdown",
   "id": "a4e5442b",
   "metadata": {},
   "source": [
    "The age distribution looks approximately symmetrical and the left and right sides of distribution are roughly equal. Skewness of 0.09 (close to zero) supports the visual observation of the distribution. Kurtosis of -0.8 suggests that the distribution is close to normal with lighter tails and less peaked than a normal distribution."
   ]
  },
  {
   "cell_type": "markdown",
   "id": "4611d866",
   "metadata": {},
   "source": [
    "# Correlation matrix¶"
   ]
  },
  {
   "cell_type": "markdown",
   "id": "1e3921a9",
   "metadata": {},
   "source": [
    "There are many columns in the data. The correlation matrix will be very crowded if we use all columns of the data frame. We will group the columns and explore correlation between columns in each group and the column 'MntTotal'. We will focus on the column 'MntTotal' to understand how we can segment the customers who buy the most in overall. We can run similar analysis for every type of product."
   ]
  },
  {
   "cell_type": "markdown",
   "id": "3cc4e40a",
   "metadata": {},
   "source": [
    "A correlation matrix allows you to quickly see how variables in your dataset are related to each other. By examining the correlation coefficients, you can identify which variables are positively correlated (increase or decrease together) or negatively correlated (move in opposite directions)."
   ]
  },
  {
   "cell_type": "markdown",
   "id": "58b09ce9",
   "metadata": {},
   "source": [
    " Exploring the correlation matrix can provide insights into the underlying relationships within your dataset. For example, you might discover unexpected correlations that prompt further investigation or reveal interesting patterns in your data."
   ]
  },
  {
   "cell_type": "markdown",
   "id": "7e1f20ec",
   "metadata": {},
   "source": [
    "Overall, the correlation matrix is a powerful tool for exploring and understanding the relationships within your data, which is essential for making informed decisions in data analysis, modeling, and hypothesis generation"
   ]
  },
  {
   "cell_type": "code",
   "execution_count": 82,
   "id": "badd1497",
   "metadata": {},
   "outputs": [],
   "source": [
    "cols_demographics = ['Income','Age']#describe the study of population based on factors..\n",
    "cols_children = ['Kidhome', 'Teenhome']#kids at home, teenagers at home\n",
    "cols_marital = ['marital_Divorced', 'marital_Married','marital_Single', 'marital_Together', 'marital_Widow']#marital status \n",
    "cols_mnt = ['MntTotal', 'MntRegularProds','MntWines', 'MntFruits', 'MntMeatProducts', 'MntFishProducts', 'MntSweetProducts', 'MntGoldProds']#different types of spending (e.g., wines, fruits, meat products, etc.)\n",
    "cols_communication = ['Complain', 'Response', 'Customer_Days']#contains columns related to communication metrics, such as complaints, responses, and customer engagement (e.g., customer days)\n",
    "cols_campaigns = ['AcceptedCmpOverall', 'AcceptedCmp1', 'AcceptedCmp2', 'AcceptedCmp3', 'AcceptedCmp4', 'AcceptedCmp5']#represent responses to different marketing campaigns (e.g., campaign acceptance rates).\n",
    "cols_source_of_purchase = ['NumDealsPurchases', 'NumWebPurchases','NumCatalogPurchases', 'NumStorePurchases', 'NumWebVisitsMonth']#contain information about the source of purchases (e.g., deals, web, catalog, store visits).\n",
    "cols_education = ['education_2n Cycle', 'education_Basic', 'education_Graduation', 'education_Master', 'education_PhD']#columns related to education levels, such as different education cycles (e.g., 2nd cycle), basic education, graduation, master's degree, and PhD."
   ]
  },
  {
   "cell_type": "code",
   "execution_count": 32,
   "id": "fd6b56c5",
   "metadata": {},
   "outputs": [
    {
     "data": {
      "image/png": "[encoded data removed]",
      "text/plain": [
       "<Figure size 432x432 with 2 Axes>"
      ]
     },
     "metadata": {
      "needs_background": "light"
     },
     "output_type": "display_data"
    }
   ],
   "source": [
    "corr_matrix = data[['MntTotal']+cols_demographics+cols_children].corr()\n",
    "plt.figure(figsize=(6,6))\n",
    "sns.heatmap(corr_matrix, annot=True, cmap='coolwarm', linewidths=0.5)\n",
    "plt.title('Correlation Matrix Heatmap')\n",
    "plt.show()"
   ]
  },
  {
   "cell_type": "markdown",
   "id": "e4cbb711",
   "metadata": {},
   "source": [
    " MntTotal has strong positive correlation with income and intermediate negative correlation with Kidhome. Income feature has nearly the same negative correlation with Kidhome and MntTotal."
   ]
  },
  {
   "cell_type": "markdown",
   "id": "d4a0919d",
   "metadata": {},
   "source": [
    "# Point-Biserial correlations for binary variables"
   ]
  },
  {
   "cell_type": "markdown",
   "id": "f7a16232",
   "metadata": {},
   "source": [
    "Pearson correlation measures the strength and direction of a linear relationship between two continuous variables. We used Pearson correlation for MntTotal, Age and Income. When we try to understand the relationship between a continuous variable MntTotal and binary variables like marital status then we should use Point-Biserial Correlation Point-Biserial Correlation is used to measure the strength and direction of the linear relationship between a binary variable and a continuous variable."
   ]
  },
  {
   "cell_type": "markdown",
   "id": "8255ecb0",
   "metadata": {},
   "source": [
    "The point-biserial correlation coefficient ranges from -1 to 1, where a value closer to 1 indicates a strong positive correlation between the binary variable and the continuous variable, while a value closer to -1 indicates a strong negative correlation. A value around 0 suggests little to no correlation."
   ]
  },
  {
   "cell_type": "code",
   "execution_count": 33,
   "id": "e7e8690b",
   "metadata": {},
   "outputs": [
    {
     "name": "stdout",
     "output_type": "stream",
     "text": [
      "0.0053: Point-Biserial Correlation for marital_Divorced with p-value 0.8041\n",
      "-0.0188: Point-Biserial Correlation for marital_Married with p-value 0.3767\n",
      "0.0011: Point-Biserial Correlation for marital_Single with p-value 0.9571\n",
      "0.0008: Point-Biserial Correlation for marital_Together with p-value 0.9708\n",
      "0.0370: Point-Biserial Correlation for marital_Widow with p-value 0.0826\n"
     ]
    }
   ],
   "source": [
    "for col in cols_marital:\n",
    "    correlation, p_value = pointbiserialr(data[col], data['MntTotal'])\n",
    "    print(f'{correlation:.4f}: Point-Biserial Correlation for {col} with p-value {p_value:.4f}')"
   ]
  },
  {
   "cell_type": "markdown",
   "id": "be33071a",
   "metadata": {},
   "source": [
    "There is no strong Point-Biserial correlation between MntTotal and different marital statuses. Some feature engineering may be required during the modelling process."
   ]
  },
  {
   "cell_type": "code",
   "execution_count": 34,
   "id": "73963c7e",
   "metadata": {},
   "outputs": [
    {
     "name": "stdout",
     "output_type": "stream",
     "text": [
      "-0.0593: Point-Biserial Correlation for education_2n Cycle with p-value 0.0054\n",
      "-0.1389: Point-Biserial Correlation for education_Basic with p-value 0.0000\n",
      "0.0159: Point-Biserial Correlation for education_Graduation with p-value 0.4551\n",
      "0.0004: Point-Biserial Correlation for education_Master with p-value 0.9842\n",
      "0.0737: Point-Biserial Correlation for education_PhD with p-value 0.0005\n"
     ]
    }
   ],
   "source": [
    "for col in cols_education:\n",
    "    correlation, p_value = pointbiserialr(data[col], data['MntTotal'])\n",
    "    print(f'{correlation:.4f}: Point-Biserial Correlation for {col} with p-value {p_value:.4f}')"
   ]
  },
  {
   "cell_type": "markdown",
   "id": "9b566869",
   "metadata": {},
   "source": [
    "There is no strong Point-Biserial correlation between MntTotal and various education levels.\n",
    "\n",
    "\n"
   ]
  },
  {
   "cell_type": "markdown",
   "id": "3d3c4aaa",
   "metadata": {},
   "source": [
    "# Descriptive Statistics:"
   ]
  },
  {
   "cell_type": "markdown",
   "id": "7a52f5ab",
   "metadata": {},
   "source": [
    " Calculate key metrics such as average purchase value, frequency of\n",
    "purchases, etc."
   ]
  },
  {
   "cell_type": "code",
   "execution_count": 35,
   "id": "0f17788d",
   "metadata": {},
   "outputs": [
    {
     "data": {
      "text/html": [
       "<div>\n",
       "<style scoped>\n",
       "    .dataframe tbody tr th:only-of-type {\n",
       "        vertical-align: middle;\n",
       "    }\n",
       "\n",
       "    .dataframe tbody tr th {\n",
       "        vertical-align: top;\n",
       "    }\n",
       "\n",
       "    .dataframe thead th {\n",
       "        text-align: right;\n",
       "    }\n",
       "</style>\n",
       "<table border=\"1\" class=\"dataframe\">\n",
       "  <thead>\n",
       "    <tr style=\"text-align: right;\">\n",
       "      <th></th>\n",
       "      <th>Income</th>\n",
       "      <th>Kidhome</th>\n",
       "      <th>Teenhome</th>\n",
       "      <th>Recency</th>\n",
       "      <th>MntWines</th>\n",
       "      <th>MntFruits</th>\n",
       "      <th>MntMeatProducts</th>\n",
       "      <th>MntFishProducts</th>\n",
       "      <th>MntSweetProducts</th>\n",
       "      <th>MntGoldProds</th>\n",
       "      <th>...</th>\n",
       "      <th>marital_Together</th>\n",
       "      <th>marital_Widow</th>\n",
       "      <th>education_2n Cycle</th>\n",
       "      <th>education_Basic</th>\n",
       "      <th>education_Graduation</th>\n",
       "      <th>education_Master</th>\n",
       "      <th>education_PhD</th>\n",
       "      <th>MntTotal</th>\n",
       "      <th>MntRegularProds</th>\n",
       "      <th>AcceptedCmpOverall</th>\n",
       "    </tr>\n",
       "  </thead>\n",
       "  <tbody>\n",
       "    <tr>\n",
       "      <th>count</th>\n",
       "      <td>2202.000000</td>\n",
       "      <td>2202.000000</td>\n",
       "      <td>2202.000000</td>\n",
       "      <td>2202.000000</td>\n",
       "      <td>2202.000000</td>\n",
       "      <td>2202.000000</td>\n",
       "      <td>2202.000000</td>\n",
       "      <td>2202.000000</td>\n",
       "      <td>2202.000000</td>\n",
       "      <td>2202.000000</td>\n",
       "      <td>...</td>\n",
       "      <td>2202.000000</td>\n",
       "      <td>2202.000000</td>\n",
       "      <td>2202.000000</td>\n",
       "      <td>2202.000000</td>\n",
       "      <td>2202.000000</td>\n",
       "      <td>2202.000000</td>\n",
       "      <td>2202.000000</td>\n",
       "      <td>2202.000000</td>\n",
       "      <td>2202.000000</td>\n",
       "      <td>2202.000000</td>\n",
       "    </tr>\n",
       "    <tr>\n",
       "      <th>mean</th>\n",
       "      <td>51570.283379</td>\n",
       "      <td>0.442779</td>\n",
       "      <td>0.507266</td>\n",
       "      <td>49.021344</td>\n",
       "      <td>304.960036</td>\n",
       "      <td>26.252044</td>\n",
       "      <td>164.336058</td>\n",
       "      <td>37.678474</td>\n",
       "      <td>26.967302</td>\n",
       "      <td>44.014986</td>\n",
       "      <td>...</td>\n",
       "      <td>0.257493</td>\n",
       "      <td>0.034514</td>\n",
       "      <td>0.089918</td>\n",
       "      <td>0.024523</td>\n",
       "      <td>0.504995</td>\n",
       "      <td>0.164396</td>\n",
       "      <td>0.216167</td>\n",
       "      <td>560.193915</td>\n",
       "      <td>516.178928</td>\n",
       "      <td>0.297457</td>\n",
       "    </tr>\n",
       "    <tr>\n",
       "      <th>std</th>\n",
       "      <td>20679.438848</td>\n",
       "      <td>0.537250</td>\n",
       "      <td>0.544429</td>\n",
       "      <td>28.944211</td>\n",
       "      <td>336.135586</td>\n",
       "      <td>39.589747</td>\n",
       "      <td>216.312982</td>\n",
       "      <td>54.821185</td>\n",
       "      <td>40.926101</td>\n",
       "      <td>51.747221</td>\n",
       "      <td>...</td>\n",
       "      <td>0.437353</td>\n",
       "      <td>0.182587</td>\n",
       "      <td>0.286130</td>\n",
       "      <td>0.154702</td>\n",
       "      <td>0.500089</td>\n",
       "      <td>0.370719</td>\n",
       "      <td>0.411723</td>\n",
       "      <td>572.096830</td>\n",
       "      <td>549.962471</td>\n",
       "      <td>0.678134</td>\n",
       "    </tr>\n",
       "    <tr>\n",
       "      <th>min</th>\n",
       "      <td>1730.000000</td>\n",
       "      <td>0.000000</td>\n",
       "      <td>0.000000</td>\n",
       "      <td>0.000000</td>\n",
       "      <td>0.000000</td>\n",
       "      <td>0.000000</td>\n",
       "      <td>0.000000</td>\n",
       "      <td>0.000000</td>\n",
       "      <td>0.000000</td>\n",
       "      <td>0.000000</td>\n",
       "      <td>...</td>\n",
       "      <td>0.000000</td>\n",
       "      <td>0.000000</td>\n",
       "      <td>0.000000</td>\n",
       "      <td>0.000000</td>\n",
       "      <td>0.000000</td>\n",
       "      <td>0.000000</td>\n",
       "      <td>0.000000</td>\n",
       "      <td>4.000000</td>\n",
       "      <td>-283.000000</td>\n",
       "      <td>0.000000</td>\n",
       "    </tr>\n",
       "    <tr>\n",
       "      <th>25%</th>\n",
       "      <td>35182.500000</td>\n",
       "      <td>0.000000</td>\n",
       "      <td>0.000000</td>\n",
       "      <td>24.000000</td>\n",
       "      <td>24.000000</td>\n",
       "      <td>2.000000</td>\n",
       "      <td>16.000000</td>\n",
       "      <td>3.000000</td>\n",
       "      <td>1.000000</td>\n",
       "      <td>9.000000</td>\n",
       "      <td>...</td>\n",
       "      <td>0.000000</td>\n",
       "      <td>0.000000</td>\n",
       "      <td>0.000000</td>\n",
       "      <td>0.000000</td>\n",
       "      <td>0.000000</td>\n",
       "      <td>0.000000</td>\n",
       "      <td>0.000000</td>\n",
       "      <td>56.000000</td>\n",
       "      <td>42.000000</td>\n",
       "      <td>0.000000</td>\n",
       "    </tr>\n",
       "    <tr>\n",
       "      <th>50%</th>\n",
       "      <td>51258.500000</td>\n",
       "      <td>0.000000</td>\n",
       "      <td>0.000000</td>\n",
       "      <td>49.000000</td>\n",
       "      <td>176.500000</td>\n",
       "      <td>8.000000</td>\n",
       "      <td>68.000000</td>\n",
       "      <td>12.000000</td>\n",
       "      <td>8.000000</td>\n",
       "      <td>25.000000</td>\n",
       "      <td>...</td>\n",
       "      <td>0.000000</td>\n",
       "      <td>0.000000</td>\n",
       "      <td>0.000000</td>\n",
       "      <td>0.000000</td>\n",
       "      <td>1.000000</td>\n",
       "      <td>0.000000</td>\n",
       "      <td>0.000000</td>\n",
       "      <td>342.500000</td>\n",
       "      <td>288.000000</td>\n",
       "      <td>0.000000</td>\n",
       "    </tr>\n",
       "    <tr>\n",
       "      <th>75%</th>\n",
       "      <td>68146.500000</td>\n",
       "      <td>1.000000</td>\n",
       "      <td>1.000000</td>\n",
       "      <td>74.000000</td>\n",
       "      <td>505.000000</td>\n",
       "      <td>33.000000</td>\n",
       "      <td>230.750000</td>\n",
       "      <td>50.000000</td>\n",
       "      <td>33.000000</td>\n",
       "      <td>56.000000</td>\n",
       "      <td>...</td>\n",
       "      <td>1.000000</td>\n",
       "      <td>0.000000</td>\n",
       "      <td>0.000000</td>\n",
       "      <td>0.000000</td>\n",
       "      <td>1.000000</td>\n",
       "      <td>0.000000</td>\n",
       "      <td>0.000000</td>\n",
       "      <td>962.000000</td>\n",
       "      <td>883.000000</td>\n",
       "      <td>0.000000</td>\n",
       "    </tr>\n",
       "    <tr>\n",
       "      <th>max</th>\n",
       "      <td>113734.000000</td>\n",
       "      <td>2.000000</td>\n",
       "      <td>2.000000</td>\n",
       "      <td>99.000000</td>\n",
       "      <td>1493.000000</td>\n",
       "      <td>199.000000</td>\n",
       "      <td>1725.000000</td>\n",
       "      <td>259.000000</td>\n",
       "      <td>262.000000</td>\n",
       "      <td>321.000000</td>\n",
       "      <td>...</td>\n",
       "      <td>1.000000</td>\n",
       "      <td>1.000000</td>\n",
       "      <td>1.000000</td>\n",
       "      <td>1.000000</td>\n",
       "      <td>1.000000</td>\n",
       "      <td>1.000000</td>\n",
       "      <td>1.000000</td>\n",
       "      <td>2304.000000</td>\n",
       "      <td>2259.000000</td>\n",
       "      <td>4.000000</td>\n",
       "    </tr>\n",
       "  </tbody>\n",
       "</table>\n",
       "<p>8 rows × 37 columns</p>\n",
       "</div>"
      ],
      "text/plain": [
       "              Income      Kidhome     Teenhome      Recency     MntWines  \\\n",
       "count    2202.000000  2202.000000  2202.000000  2202.000000  2202.000000   \n",
       "mean    51570.283379     0.442779     0.507266    49.021344   304.960036   \n",
       "std     20679.438848     0.537250     0.544429    28.944211   336.135586   \n",
       "min      1730.000000     0.000000     0.000000     0.000000     0.000000   \n",
       "25%     35182.500000     0.000000     0.000000    24.000000    24.000000   \n",
       "50%     51258.500000     0.000000     0.000000    49.000000   176.500000   \n",
       "75%     68146.500000     1.000000     1.000000    74.000000   505.000000   \n",
       "max    113734.000000     2.000000     2.000000    99.000000  1493.000000   \n",
       "\n",
       "         MntFruits  MntMeatProducts  MntFishProducts  MntSweetProducts  \\\n",
       "count  2202.000000      2202.000000      2202.000000       2202.000000   \n",
       "mean     26.252044       164.336058        37.678474         26.967302   \n",
       "std      39.589747       216.312982        54.821185         40.926101   \n",
       "min       0.000000         0.000000         0.000000          0.000000   \n",
       "25%       2.000000        16.000000         3.000000          1.000000   \n",
       "50%       8.000000        68.000000        12.000000          8.000000   \n",
       "75%      33.000000       230.750000        50.000000         33.000000   \n",
       "max     199.000000      1725.000000       259.000000        262.000000   \n",
       "\n",
       "       MntGoldProds  ...  marital_Together  marital_Widow  education_2n Cycle  \\\n",
       "count   2202.000000  ...       2202.000000    2202.000000         2202.000000   \n",
       "mean      44.014986  ...          0.257493       0.034514            0.089918   \n",
       "std       51.747221  ...          0.437353       0.182587            0.286130   \n",
       "min        0.000000  ...          0.000000       0.000000            0.000000   \n",
       "25%        9.000000  ...          0.000000       0.000000            0.000000   \n",
       "50%       25.000000  ...          0.000000       0.000000            0.000000   \n",
       "75%       56.000000  ...          1.000000       0.000000            0.000000   \n",
       "max      321.000000  ...          1.000000       1.000000            1.000000   \n",
       "\n",
       "       education_Basic  education_Graduation  education_Master  education_PhD  \\\n",
       "count      2202.000000           2202.000000       2202.000000    2202.000000   \n",
       "mean          0.024523              0.504995          0.164396       0.216167   \n",
       "std           0.154702              0.500089          0.370719       0.411723   \n",
       "min           0.000000              0.000000          0.000000       0.000000   \n",
       "25%           0.000000              0.000000          0.000000       0.000000   \n",
       "50%           0.000000              1.000000          0.000000       0.000000   \n",
       "75%           0.000000              1.000000          0.000000       0.000000   \n",
       "max           1.000000              1.000000          1.000000       1.000000   \n",
       "\n",
       "          MntTotal  MntRegularProds  AcceptedCmpOverall  \n",
       "count  2202.000000      2202.000000         2202.000000  \n",
       "mean    560.193915       516.178928            0.297457  \n",
       "std     572.096830       549.962471            0.678134  \n",
       "min       4.000000      -283.000000            0.000000  \n",
       "25%      56.000000        42.000000            0.000000  \n",
       "50%     342.500000       288.000000            0.000000  \n",
       "75%     962.000000       883.000000            0.000000  \n",
       "max    2304.000000      2259.000000            4.000000  \n",
       "\n",
       "[8 rows x 37 columns]"
      ]
     },
     "execution_count": 35,
     "metadata": {},
     "output_type": "execute_result"
    }
   ],
   "source": [
    "data.describe()#give all statistics value for respective column"
   ]
  },
  {
   "cell_type": "code",
   "execution_count": 36,
   "id": "2a4c1ee6",
   "metadata": {},
   "outputs": [
    {
     "data": {
      "text/plain": [
       "1233547"
      ]
     },
     "execution_count": 36,
     "metadata": {},
     "output_type": "execute_result"
    }
   ],
   "source": [
    "# Calculate total purchase value\n",
    "total_purchase_value = data['MntTotal'].sum()\n",
    "total_purchase_value"
   ]
  },
  {
   "cell_type": "code",
   "execution_count": 37,
   "id": "69104d7a",
   "metadata": {},
   "outputs": [
    {
     "data": {
      "text/plain": [
       "560.19391462307"
      ]
     },
     "execution_count": 37,
     "metadata": {},
     "output_type": "execute_result"
    }
   ],
   "source": [
    "# Calculate average purchase value\n",
    "average_purchase_value = data['MntTotal'].mean()\n",
    "average_purchase_value"
   ]
  },
  {
   "cell_type": "code",
   "execution_count": 38,
   "id": "8e6a61c4",
   "metadata": {},
   "outputs": [
    {
     "data": {
      "text/plain": [
       "2202.0"
      ]
     },
     "execution_count": 38,
     "metadata": {},
     "output_type": "execute_result"
    }
   ],
   "source": [
    "# Calculate frequency of purchases per customer\n",
    "purchase_frequency =data['Customer_Days'].count().mean()\n",
    "purchase_frequency"
   ]
  },
  {
   "cell_type": "code",
   "execution_count": 39,
   "id": "f7ca43ce",
   "metadata": {},
   "outputs": [
    {
     "data": {
      "text/plain": [
       "2512.9237057220707"
      ]
     },
     "execution_count": 39,
     "metadata": {},
     "output_type": "execute_result"
    }
   ],
   "source": [
    "Average_of_active_customer_days=data['Customer_Days'].mean()\n",
    "Average_of_active_customer_days"
   ]
  },
  {
   "cell_type": "markdown",
   "id": "099a2ca1",
   "metadata": {},
   "source": [
    "# K-Means Clustering"
   ]
  },
  {
   "cell_type": "markdown",
   "id": "b48732d6",
   "metadata": {},
   "source": [
    "Utilize clustering algorithms (e.g., K-means) to segment\n",
    "customers based on behavior and purchase patterns.\n"
   ]
  },
  {
   "cell_type": "markdown",
   "id": "14b49cf1",
   "metadata": {},
   "source": [
    "K-means clustering is an unsupervised machine learning algorithm used to cluster data based on similarity. K-means clustering usually works well in practice and scales well to the large datasets."
   ]
  },
  {
   "cell_type": "markdown",
   "id": "b3f1dbf1",
   "metadata": {},
   "source": [
    "K-means clustering algorithm is based on the calculation of distances between data points to form clusters. When features have different scales, features with larger scales can disproportionately influence the distance calculation. There are various ways to standardise features, we will use standard scaling ."
   ]
  },
  {
   "cell_type": "code",
   "execution_count": 40,
   "id": "b02bbb13",
   "metadata": {},
   "outputs": [],
   "source": [
    "from sklearn.cluster import KMeans"
   ]
  },
  {
   "cell_type": "markdown",
   "id": "7ab1c9d1",
   "metadata": {},
   "source": [
    "# Standardising data"
   ]
  },
  {
   "cell_type": "markdown",
   "id": "05fd7125",
   "metadata": {},
   "source": [
    "Standardising data-standardizes features by removing the mean and scaling them to unit variance and It transforms the data such that it has a mean of 0 and a standard deviation of 1."
   ]
  },
  {
   "cell_type": "markdown",
   "id": "54b12ffc",
   "metadata": {},
   "source": [
    "An example illustrated why we need to standardising data .\n",
    "Example:\n",
    "Handling Different Scales: Features in a dataset may have different scales. For example, in a dataset containing both income and age, income might be in the range of thousands while age is typically in the range of tens. If the scales of features are not consistent, some algorithms may give more weight to features with larger scales. Standard scaling brings all features to the same scale, mitigating this issue."
   ]
  },
  {
   "cell_type": "code",
   "execution_count": 41,
   "id": "897da499",
   "metadata": {},
   "outputs": [
    {
     "data": {
      "text/html": [
       "<div>\n",
       "<style scoped>\n",
       "    .dataframe tbody tr th:only-of-type {\n",
       "        vertical-align: middle;\n",
       "    }\n",
       "\n",
       "    .dataframe tbody tr th {\n",
       "        vertical-align: top;\n",
       "    }\n",
       "\n",
       "    .dataframe thead th {\n",
       "        text-align: right;\n",
       "    }\n",
       "</style>\n",
       "<table border=\"1\" class=\"dataframe\">\n",
       "  <thead>\n",
       "    <tr style=\"text-align: right;\">\n",
       "      <th></th>\n",
       "      <th>Income</th>\n",
       "      <th>MntTotal</th>\n",
       "    </tr>\n",
       "  </thead>\n",
       "  <tbody>\n",
       "    <tr>\n",
       "      <th>count</th>\n",
       "      <td>2.202000e+03</td>\n",
       "      <td>2.202000e+03</td>\n",
       "    </tr>\n",
       "    <tr>\n",
       "      <th>mean</th>\n",
       "      <td>2.287125e-17</td>\n",
       "      <td>-9.246817e-17</td>\n",
       "    </tr>\n",
       "    <tr>\n",
       "      <th>std</th>\n",
       "      <td>1.000227e+00</td>\n",
       "      <td>1.000227e+00</td>\n",
       "    </tr>\n",
       "    <tr>\n",
       "      <th>min</th>\n",
       "      <td>-2.410685e+00</td>\n",
       "      <td>-9.724232e-01</td>\n",
       "    </tr>\n",
       "    <tr>\n",
       "      <th>25%</th>\n",
       "      <td>-7.926475e-01</td>\n",
       "      <td>-8.815089e-01</td>\n",
       "    </tr>\n",
       "    <tr>\n",
       "      <th>50%</th>\n",
       "      <td>-1.508040e-02</td>\n",
       "      <td>-3.806058e-01</td>\n",
       "    </tr>\n",
       "    <tr>\n",
       "      <th>75%</th>\n",
       "      <td>8.017617e-01</td>\n",
       "      <td>7.024988e-01</td>\n",
       "    </tr>\n",
       "    <tr>\n",
       "      <th>max</th>\n",
       "      <td>3.006747e+00</td>\n",
       "      <td>3.048788e+00</td>\n",
       "    </tr>\n",
       "  </tbody>\n",
       "</table>\n",
       "</div>"
      ],
      "text/plain": [
       "             Income      MntTotal\n",
       "count  2.202000e+03  2.202000e+03\n",
       "mean   2.287125e-17 -9.246817e-17\n",
       "std    1.000227e+00  1.000227e+00\n",
       "min   -2.410685e+00 -9.724232e-01\n",
       "25%   -7.926475e-01 -8.815089e-01\n",
       "50%   -1.508040e-02 -3.806058e-01\n",
       "75%    8.017617e-01  7.024988e-01\n",
       "max    3.006747e+00  3.048788e+00"
      ]
     },
     "execution_count": 41,
     "metadata": {},
     "output_type": "execute_result"
    }
   ],
   "source": [
    "from sklearn.preprocessing import StandardScaler\n",
    "scaler = StandardScaler()# Initialize StandardScaler\n",
    "cols_for_clustering = ['Income', 'MntTotal']#list of column we want to scale\n",
    "data_scaled = data.copy()\n",
    "data_scaled[cols_for_clustering] = scaler.fit_transform(data[cols_for_clustering])# Fit and transform the data\n",
    "data_scaled[cols_for_clustering].describe()"
   ]
  },
  {
   "cell_type": "markdown",
   "id": "e5bddb8b",
   "metadata": {},
   "source": [
    "One more method for Perform feature scaling or normalization if required using functions like sklearn"
   ]
  },
  {
   "cell_type": "markdown",
   "id": "207d842a",
   "metadata": {},
   "source": [
    "MinMaxScaler:\n",
    "\n",
    "MinMaxScaler scales features to a given range, usually [0, 1] by default.\n",
    "It transforms the data such that the minimum value of each feature becomes 0, and the maximum value becomes 1.''"
   ]
  },
  {
   "cell_type": "markdown",
   "id": "58eef869",
   "metadata": {},
   "source": [
    "The mean value for all colums is almost zero and the standard deviation is almost 1. All the data points were replaced by their z-scores."
   ]
  },
  {
   "cell_type": "markdown",
   "id": "506991e3",
   "metadata": {},
   "source": [
    "# Principal Component Analysis (PCA)"
   ]
  },
  {
   "cell_type": "markdown",
   "id": "264b94fa",
   "metadata": {},
   "source": [
    "PCA is a technique of dimensionality reduction. PCA takes the original features (dimensions) and create new features that capture the most variance of the data."
   ]
  },
  {
   "cell_type": "code",
   "execution_count": 60,
   "id": "c5184473",
   "metadata": {},
   "outputs": [],
   "source": [
    "from sklearn import decomposition\n",
    "pca = decomposition.PCA(n_components = 2)\n",
    "pca_res = pca.fit_transform(data_scaled[cols_for_clustering])\n",
    "data_scaled['pc1'] = pca_res[:,0]\n",
    "data_scaled['pc2'] = pca_res[:,1]"
   ]
  },
  {
   "cell_type": "markdown",
   "id": "353a8387",
   "metadata": {},
   "source": [
    "# Elbow method"
   ]
  },
  {
   "cell_type": "markdown",
   "id": "4cc36b15",
   "metadata": {},
   "source": [
    "The elbow method is a technique used to determine the optimal number of clusters (K) for K-means clustering algorithm."
   ]
  },
  {
   "cell_type": "code",
   "execution_count": 65,
   "id": "2ed1912c",
   "metadata": {},
   "outputs": [],
   "source": [
    "X = data_scaled[cols_for_clustering]\n",
    "inertia_list = []\n",
    "for K in range(2,10):\n",
    "    inertia = KMeans(n_clusters=K, random_state=7).fit(X).inertia_\n",
    "    inertia_list.append(inertia)"
   ]
  },
  {
   "cell_type": "markdown",
   "id": "b5bc6e67",
   "metadata": {},
   "source": [
    "X=data_Scaled[cols_for_clustering]This line extracts the subset of columns specified by 'cols-for_clustering'from scaled data and assign it to variable X.\n",
    "\n",
    "\n",
    "inertia_list = []: This initializes an empty list named inertia_list where you'll store the inertia values for each number of clusters.\n",
    "\n",
    "\n",
    "The loop for K in range(2,10): iterates over the range from 2 to 9 (inclusive), which represents the number of clusters you want to try.\n",
    "\n",
    "Inside the loop, inertia = KMeans(n_clusters=K, random_state=7).fit(X).inertia_ performs k-means clustering with K clusters on the dataset X.\n",
    "\n",
    "The .fit(X) method fits the k-means model to the data.\n",
    "\n",
    "inertia_ returns the sum of squared distances of samples to their closest cluster center, which is the inertia.\n",
    "\n",
    "This inertia value is then appended to the inertia_list."
   ]
  },
  {
   "cell_type": "code",
   "execution_count": 66,
   "id": "556cc2c0",
   "metadata": {},
   "outputs": [
    {
     "data": {
      "image/png": "[encoded data removed]",
      "text/plain": [
       "<Figure size 432x288 with 1 Axes>"
      ]
     },
     "metadata": {
      "needs_background": "light"
     },
     "output_type": "display_data"
    }
   ],
   "source": [
    "plt.plot(range(2,10), inertia_list, color=(54 / 255, 113 / 255, 130 / 255))\n",
    "plt.title(\"Inertia vs. Number of Clusters\")\n",
    "plt.xlabel(\"Number of Clusters (K)\")\n",
    "plt.ylabel(\"Inertia\")\n",
    "plt.show()"
   ]
  },
  {
   "cell_type": "markdown",
   "id": "41d2c622",
   "metadata": {},
   "source": [
    "Elbow method suggests 3 or 4 clusters. Let's check silhouette score."
   ]
  },
  {
   "cell_type": "markdown",
   "id": "72d4a002",
   "metadata": {},
   "source": [
    "# Silhouette score analysis"
   ]
  },
  {
   "cell_type": "markdown",
   "id": "9c721cae",
   "metadata": {},
   "source": [
    "Silhouette score is a metric that used to assess the quality of clustering. A higher silhouette score indicates that the clusters are well-separated, while a lower score suggests that the clusters may overlap or are poorly defined."
   ]
  },
  {
   "cell_type": "markdown",
   "id": "ddb314b2",
   "metadata": {},
   "source": [
    "The silhouette score ranges from -1 to 1, where:\n",
    "\n",
    "A score close to +1 indicates that the sample is far away from the neighboring clusters, meaning it is well within its own cluster and far from neighboring clusters.\n",
    "\n",
    "A score of 0 indicates that the sample is on or very close to the decision boundary between two neighboring clusters.\n",
    "\n",
    "A score close to -1 indicates that the sample is much closer to a neighboring cluster than to its own cluster, suggesting it may have been assigned to the wrong cluster."
   ]
  },
  {
   "cell_type": "code",
   "execution_count": 67,
   "id": "11bc3706",
   "metadata": {},
   "outputs": [
    {
     "data": {
      "image/png": "[encoded data removed]",
      "text/plain": [
       "<Figure size 504x360 with 1 Axes>"
      ]
     },
     "metadata": {
      "needs_background": "light"
     },
     "output_type": "display_data"
    }
   ],
   "source": [
    "from sklearn.metrics import silhouette_score\n",
    "silhouette_list = []\n",
    "for K in range(2,10):\n",
    "    model = KMeans(n_clusters = K, random_state=7)\n",
    "    clusters = model.fit_predict(X)\n",
    "    s_avg = silhouette_score(X, clusters)\n",
    "    silhouette_list.append(s_avg)\n",
    "\n",
    "plt.figure(figsize=[7,5])\n",
    "plt.plot(range(2,10), silhouette_list, color=(54 / 255, 113 / 255, 130 / 255))\n",
    "plt.title(\"Silhouette Score vs. Number of Clusters\")\n",
    "plt.xlabel(\"Number of Clusters (K)\")\n",
    "plt.ylabel(\"Silhouette Score\")\n",
    "plt.show()"
   ]
  },
  {
   "cell_type": "markdown",
   "id": "b5ee7062",
   "metadata": {},
   "source": [
    "The highest silhouette score is for 2 clusters."
   ]
  },
  {
   "cell_type": "code",
   "execution_count": 59,
   "id": "70817485",
   "metadata": {},
   "outputs": [],
   "source": [
    "model = KMeans(n_clusters=4, random_state = 7)\n",
    "model.fit(data_scaled[cols_for_clustering])\n",
    "data_scaled['Cluster'] = model.predict(data_scaled[cols_for_clustering])"
   ]
  },
  {
   "cell_type": "markdown",
   "id": "22eaf626",
   "metadata": {},
   "source": [
    "# Visualisation of clusters"
   ]
  },
  {
   "cell_type": "markdown",
   "id": "7afd6edf",
   "metadata": {},
   "source": [
    "Create visualizations (e.g., scatter plots, bar charts) to illustrate customer\n",
    "segments.\n"
   ]
  },
  {
   "cell_type": "code",
   "execution_count": 68,
   "id": "6ee3a3a2",
   "metadata": {},
   "outputs": [
    {
     "data": {
      "text/plain": [
       "<matplotlib.legend.Legend at 0x224efbd3880>"
      ]
     },
     "execution_count": 68,
     "metadata": {},
     "output_type": "execute_result"
    },
    {
     "data": {
      "image/png": "[encoded data removed]",
      "text/plain": [
       "<Figure size 576x432 with 1 Axes>"
      ]
     },
     "metadata": {
      "needs_background": "light"
     },
     "output_type": "display_data"
    }
   ],
   "source": [
    "plt.figure(figsize=(8, 6))\n",
    "sns.scatterplot(x='pc1', y='pc2', data=data_scaled, hue='Cluster', palette='viridis')\n",
    "plt.title('Clustered Data Visualization')\n",
    "plt.xlabel('Principal Component 1 (pc1)')\n",
    "plt.ylabel('Principal Component 2 (pc2)')\n",
    "plt.legend(title='Clusters')"
   ]
  },
  {
   "cell_type": "code",
   "execution_count": 69,
   "id": "7371314d",
   "metadata": {},
   "outputs": [
    {
     "data": {
      "text/html": [
       "<div>\n",
       "<style scoped>\n",
       "    .dataframe tbody tr th:only-of-type {\n",
       "        vertical-align: middle;\n",
       "    }\n",
       "\n",
       "    .dataframe tbody tr th {\n",
       "        vertical-align: top;\n",
       "    }\n",
       "\n",
       "    .dataframe thead th {\n",
       "        text-align: right;\n",
       "    }\n",
       "</style>\n",
       "<table border=\"1\" class=\"dataframe\">\n",
       "  <thead>\n",
       "    <tr style=\"text-align: right;\">\n",
       "      <th></th>\n",
       "      <th>Income</th>\n",
       "      <th>MntTotal</th>\n",
       "    </tr>\n",
       "    <tr>\n",
       "      <th>Cluster</th>\n",
       "      <th></th>\n",
       "      <th></th>\n",
       "    </tr>\n",
       "  </thead>\n",
       "  <tbody>\n",
       "    <tr>\n",
       "      <th>0</th>\n",
       "      <td>49326.797468</td>\n",
       "      <td>260.064873</td>\n",
       "    </tr>\n",
       "    <tr>\n",
       "      <th>1</th>\n",
       "      <td>79121.816619</td>\n",
       "      <td>1575.355301</td>\n",
       "    </tr>\n",
       "    <tr>\n",
       "      <th>2</th>\n",
       "      <td>27559.293179</td>\n",
       "      <td>64.612482</td>\n",
       "    </tr>\n",
       "    <tr>\n",
       "      <th>3</th>\n",
       "      <td>67258.197368</td>\n",
       "      <td>892.610902</td>\n",
       "    </tr>\n",
       "  </tbody>\n",
       "</table>\n",
       "</div>"
      ],
      "text/plain": [
       "               Income     MntTotal\n",
       "Cluster                           \n",
       "0        49326.797468   260.064873\n",
       "1        79121.816619  1575.355301\n",
       "2        27559.293179    64.612482\n",
       "3        67258.197368   892.610902"
      ]
     },
     "execution_count": 69,
     "metadata": {},
     "output_type": "execute_result"
    }
   ],
   "source": [
    "data['Cluster'] = data_scaled.Cluster\n",
    "data.groupby('Cluster')[cols_for_clustering].mean()"
   ]
  },
  {
   "cell_type": "markdown",
   "id": "f0b8d9c4",
   "metadata": {},
   "source": [
    "# Mean consumption of different product types by cluster"
   ]
  },
  {
   "cell_type": "code",
   "execution_count": 71,
   "id": "40db98f6",
   "metadata": {},
   "outputs": [
    {
     "data": {
      "text/html": [
       "<div>\n",
       "<style scoped>\n",
       "    .dataframe tbody tr th:only-of-type {\n",
       "        vertical-align: middle;\n",
       "    }\n",
       "\n",
       "    .dataframe tbody tr th {\n",
       "        vertical-align: top;\n",
       "    }\n",
       "\n",
       "    .dataframe thead th {\n",
       "        text-align: right;\n",
       "    }\n",
       "</style>\n",
       "<table border=\"1\" class=\"dataframe\">\n",
       "  <thead>\n",
       "    <tr style=\"text-align: right;\">\n",
       "      <th></th>\n",
       "      <th>Cluster</th>\n",
       "      <th>MntTotal</th>\n",
       "      <th>MntRegularProds</th>\n",
       "      <th>MntWines</th>\n",
       "      <th>MntFruits</th>\n",
       "      <th>MntMeatProducts</th>\n",
       "      <th>MntFishProducts</th>\n",
       "      <th>MntSweetProducts</th>\n",
       "      <th>MntGoldProds</th>\n",
       "    </tr>\n",
       "  </thead>\n",
       "  <tbody>\n",
       "    <tr>\n",
       "      <th>0</th>\n",
       "      <td>0</td>\n",
       "      <td>260.064873</td>\n",
       "      <td>225.412975</td>\n",
       "      <td>164.115506</td>\n",
       "      <td>10.832278</td>\n",
       "      <td>58.727848</td>\n",
       "      <td>15.439873</td>\n",
       "      <td>10.949367</td>\n",
       "      <td>34.651899</td>\n",
       "    </tr>\n",
       "    <tr>\n",
       "      <th>1</th>\n",
       "      <td>1</td>\n",
       "      <td>1575.355301</td>\n",
       "      <td>1499.094556</td>\n",
       "      <td>814.810888</td>\n",
       "      <td>68.492837</td>\n",
       "      <td>525.137536</td>\n",
       "      <td>97.143266</td>\n",
       "      <td>69.770774</td>\n",
       "      <td>76.260745</td>\n",
       "    </tr>\n",
       "    <tr>\n",
       "      <th>2</th>\n",
       "      <td>2</td>\n",
       "      <td>64.612482</td>\n",
       "      <td>48.433962</td>\n",
       "      <td>24.419448</td>\n",
       "      <td>5.113208</td>\n",
       "      <td>22.217707</td>\n",
       "      <td>7.640058</td>\n",
       "      <td>5.222061</td>\n",
       "      <td>16.178520</td>\n",
       "    </tr>\n",
       "    <tr>\n",
       "      <th>3</th>\n",
       "      <td>3</td>\n",
       "      <td>892.610902</td>\n",
       "      <td>822.575188</td>\n",
       "      <td>501.140977</td>\n",
       "      <td>44.236842</td>\n",
       "      <td>237.163534</td>\n",
       "      <td>63.990602</td>\n",
       "      <td>46.078947</td>\n",
       "      <td>70.035714</td>\n",
       "    </tr>\n",
       "  </tbody>\n",
       "</table>\n",
       "</div>"
      ],
      "text/plain": [
       "   Cluster     MntTotal  MntRegularProds    MntWines  MntFruits  \\\n",
       "0        0   260.064873       225.412975  164.115506  10.832278   \n",
       "1        1  1575.355301      1499.094556  814.810888  68.492837   \n",
       "2        2    64.612482        48.433962   24.419448   5.113208   \n",
       "3        3   892.610902       822.575188  501.140977  44.236842   \n",
       "\n",
       "   MntMeatProducts  MntFishProducts  MntSweetProducts  MntGoldProds  \n",
       "0        58.727848        15.439873         10.949367     34.651899  \n",
       "1       525.137536        97.143266         69.770774     76.260745  \n",
       "2        22.217707         7.640058          5.222061     16.178520  \n",
       "3       237.163534        63.990602         46.078947     70.035714  "
      ]
     },
     "execution_count": 71,
     "metadata": {},
     "output_type": "execute_result"
    }
   ],
   "source": [
    "mnt_data = data.groupby('Cluster')[cols_mnt].mean().reset_index()\n",
    "mnt_data.head()"
   ]
  },
  {
   "cell_type": "code",
   "execution_count": 72,
   "id": "66a538b0",
   "metadata": {},
   "outputs": [
    {
     "data": {
      "image/png": "[encoded data removed]",
      "text/plain": [
       "<Figure size 864x432 with 1 Axes>"
      ]
     },
     "metadata": {
      "needs_background": "light"
     },
     "output_type": "display_data"
    }
   ],
   "source": [
    "melted_data = pd.melt(mnt_data, id_vars=\"Cluster\", var_name=\"Product\", value_name=\"Consumption\")\n",
    "plt.figure(figsize=(12, 6))\n",
    "sns.barplot(x=\"Cluster\", y=\"Consumption\", hue=\"Product\", data=melted_data, ci=None, palette=\"viridis\")\n",
    "plt.title(\"Product Consumption by Cluster\")\n",
    "plt.xlabel(\"Cluster\")\n",
    "plt.ylabel(\"Product Consumption\")\n",
    "plt.xticks(rotation=0)  \n",
    "plt.legend(title=\"Product\", loc=\"upper right\")\n",
    "\n",
    "plt.show()"
   ]
  },
  {
   "cell_type": "markdown",
   "id": "b09272f8",
   "metadata": {},
   "source": [
    "# Cluster sizes"
   ]
  },
  {
   "cell_type": "code",
   "execution_count": 73,
   "id": "ca71b2b1",
   "metadata": {},
   "outputs": [
    {
     "data": {
      "text/plain": [
       "Text(0, 0.5, 'MntTotal')"
      ]
     },
     "execution_count": 73,
     "metadata": {},
     "output_type": "execute_result"
    },
    {
     "data": {
      "image/png": "[encoded data removed]",
      "text/plain": [
       "<Figure size 576x432 with 1 Axes>"
      ]
     },
     "metadata": {
      "needs_background": "light"
     },
     "output_type": "display_data"
    }
   ],
   "source": [
    "cluster_sizes = data.groupby('Cluster')[['MntTotal']].count().reset_index()\n",
    "plt.figure(figsize=(8,6))\n",
    "sns.barplot(x='Cluster', y='MntTotal', data=cluster_sizes, palette = 'viridis')\n",
    "plt.title('Cluster sizes')\n",
    "plt.xlabel('Cluster')\n",
    "plt.ylabel('MntTotal')"
   ]
  },
  {
   "cell_type": "code",
   "execution_count": 74,
   "id": "e7548e40",
   "metadata": {},
   "outputs": [
    {
     "data": {
      "text/html": [
       "<div>\n",
       "<style scoped>\n",
       "    .dataframe tbody tr th:only-of-type {\n",
       "        vertical-align: middle;\n",
       "    }\n",
       "\n",
       "    .dataframe tbody tr th {\n",
       "        vertical-align: top;\n",
       "    }\n",
       "\n",
       "    .dataframe thead th {\n",
       "        text-align: right;\n",
       "    }\n",
       "</style>\n",
       "<table border=\"1\" class=\"dataframe\">\n",
       "  <thead>\n",
       "    <tr style=\"text-align: right;\">\n",
       "      <th></th>\n",
       "      <th>Cluster</th>\n",
       "      <th>MntTotal</th>\n",
       "      <th>Share%</th>\n",
       "    </tr>\n",
       "  </thead>\n",
       "  <tbody>\n",
       "    <tr>\n",
       "      <th>0</th>\n",
       "      <td>0</td>\n",
       "      <td>632</td>\n",
       "      <td>29.0</td>\n",
       "    </tr>\n",
       "    <tr>\n",
       "      <th>1</th>\n",
       "      <td>1</td>\n",
       "      <td>349</td>\n",
       "      <td>16.0</td>\n",
       "    </tr>\n",
       "    <tr>\n",
       "      <th>2</th>\n",
       "      <td>2</td>\n",
       "      <td>689</td>\n",
       "      <td>31.0</td>\n",
       "    </tr>\n",
       "    <tr>\n",
       "      <th>3</th>\n",
       "      <td>3</td>\n",
       "      <td>532</td>\n",
       "      <td>24.0</td>\n",
       "    </tr>\n",
       "  </tbody>\n",
       "</table>\n",
       "</div>"
      ],
      "text/plain": [
       "   Cluster  MntTotal  Share%\n",
       "0        0       632    29.0\n",
       "1        1       349    16.0\n",
       "2        2       689    31.0\n",
       "3        3       532    24.0"
      ]
     },
     "execution_count": 74,
     "metadata": {},
     "output_type": "execute_result"
    }
   ],
   "source": [
    "total_rows = len(data)\n",
    "cluster_sizes['Share%'] = round(cluster_sizes['MntTotal'] / total_rows*100,0)\n",
    "cluster_sizes.head()"
   ]
  },
  {
   "cell_type": "markdown",
   "id": "2f42a882",
   "metadata": {},
   "source": [
    "# Income by cluster"
   ]
  },
  {
   "cell_type": "markdown",
   "id": "8fa16809",
   "metadata": {},
   "source": [
    "Box plot"
   ]
  },
  {
   "cell_type": "code",
   "execution_count": 75,
   "id": "7f03cc1d",
   "metadata": {},
   "outputs": [
    {
     "name": "stderr",
     "output_type": "stream",
     "text": [
      "No handles with labels found to put in legend.\n"
     ]
    },
    {
     "data": {
      "text/plain": [
       "<matplotlib.legend.Legend at 0x224fee47880>"
      ]
     },
     "execution_count": 75,
     "metadata": {},
     "output_type": "execute_result"
    },
    {
     "data": {
      "image/png": "[encoded data removed]",
      "text/plain": [
       "<Figure size 576x432 with 1 Axes>"
      ]
     },
     "metadata": {
      "needs_background": "light"
     },
     "output_type": "display_data"
    }
   ],
   "source": [
    "plt.figure(figsize=(8, 6))\n",
    "sns.boxplot(x='Cluster', y='Income', data=data, palette='viridis')\n",
    "plt.title('Income by cluster')\n",
    "plt.xlabel('Cluster')\n",
    "plt.ylabel('Income')\n",
    "plt.legend(title='Clusters')"
   ]
  },
  {
   "cell_type": "markdown",
   "id": "4984500f",
   "metadata": {},
   "source": [
    "# Scatter plot"
   ]
  },
  {
   "cell_type": "code",
   "execution_count": 76,
   "id": "b20e1dbb",
   "metadata": {},
   "outputs": [
    {
     "data": {
      "text/plain": [
       "<matplotlib.legend.Legend at 0x224feef17f0>"
      ]
     },
     "execution_count": 76,
     "metadata": {},
     "output_type": "execute_result"
    },
    {
     "data": {
      "image/png": "[encoded data removed]",
      "text/plain": [
       "<Figure size 576x432 with 1 Axes>"
      ]
     },
     "metadata": {
      "needs_background": "light"
     },
     "output_type": "display_data"
    }
   ],
   "source": [
    "plt.figure(figsize=(8, 6))\n",
    "sns.scatterplot(x='Income', y='MntTotal', data=data, hue = 'Cluster', palette='viridis')\n",
    "plt.title('Income by cluster')\n",
    "plt.xlabel('Income')\n",
    "plt.ylabel('MntTotal')\n",
    "plt.legend(title='Clusters')"
   ]
  },
  {
   "cell_type": "code",
   "execution_count": 94,
   "id": "9023e5b9",
   "metadata": {},
   "outputs": [
    {
     "data": {
      "text/plain": [
       "Text(0, 0.5, 'MntTotal')"
      ]
     },
     "execution_count": 94,
     "metadata": {},
     "output_type": "execute_result"
    },
    {
     "data": {
      "image/png": "[encoded data removed]",
      "text/plain": [
       "<Figure size 576x432 with 1 Axes>"
      ]
     },
     "metadata": {
      "needs_background": "light"
     },
     "output_type": "display_data"
    }
   ],
   "source": [
    "#Income-Customer's  Yearly household Income\n",
    "plt.figure(figsize=(8, 6))\n",
    "sns.barplot(x='Cluster', y='MntTotal', data=data, palette='viridis')\n",
    "plt.title('MntTotal by cluster')\n",
    "plt.xlabel('Cluster')\n",
    "plt.ylabel('MntTotal')"
   ]
  },
  {
   "cell_type": "code",
   "execution_count": 92,
   "id": "0b2f717f",
   "metadata": {},
   "outputs": [
    {
     "data": {
      "text/plain": [
       "Text(0, 0.5, 'MntTotal')"
      ]
     },
     "execution_count": 92,
     "metadata": {},
     "output_type": "execute_result"
    },
    {
     "data": {
      "image/png": "[encoded data removed]",
      "text/plain": [
       "<Figure size 576x432 with 1 Axes>"
      ]
     },
     "metadata": {
      "needs_background": "light"
     },
     "output_type": "display_data"
    }
   ],
   "source": [
    "plt.figure(figsize=(8, 6))\n",
    "sns.barplot(x='Cluster', y='MntTotal', data=data, palette='viridis')\n",
    "plt.title('MntTotal by cluster')\n",
    "plt.xlabel('Cluster')\n",
    "plt.ylabel('MntTotal')"
   ]
  },
  {
   "cell_type": "code",
   "execution_count": 90,
   "id": "159e51a5",
   "metadata": {},
   "outputs": [
    {
     "data": {
      "text/plain": [
       "Text(0, 0.5, 'Complain')"
      ]
     },
     "execution_count": 90,
     "metadata": {},
     "output_type": "execute_result"
    },
    {
     "data": {
      "image/png": "[encoded data removed]",
      "text/plain": [
       "<Figure size 576x432 with 1 Axes>"
      ]
     },
     "metadata": {
      "needs_background": "light"
     },
     "output_type": "display_data"
    },
    {
     "data": {
      "image/png": "[encoded data removed]",
      "text/plain": [
       "<Figure size 576x432 with 1 Axes>"
      ]
     },
     "metadata": {
      "needs_background": "light"
     },
     "output_type": "display_data"
    }
   ],
   "source": [
    "plt.figure(figsize=(8, 6))\n",
    "sns.barplot(x='Cluster', y='NumDealsPurchases', data=data, palette='viridis')\n",
    "plt.title('NumDealsPurchases by cluster')\n",
    "plt.xlabel('Cluster')\n",
    "plt.ylabel('NumDealsPurchases')\n",
    "\n",
    "plt.figure(figsize=(8, 6))\n",
    "sns.barplot(x='Cluster', y='Complain', data=data, palette='viridis')\n",
    "plt.title('Complain raised by cluster')\n",
    "plt.xlabel('Cluster')\n",
    "plt.ylabel('Complain')"
   ]
  },
  {
   "cell_type": "markdown",
   "id": "1a7540e0",
   "metadata": {},
   "source": [
    "# Insights and Recommendations:"
   ]
  },
  {
   "cell_type": "markdown",
   "id": "8906b79a",
   "metadata": {},
   "source": [
    "Analyze characteristics of each segment and provide\n",
    "insights."
   ]
  },
  {
   "cell_type": "markdown",
   "id": "3677c2da",
   "metadata": {},
   "source": [
    "Based on the clusters, tailored marketing strategies can be created. Customers from these segments will have different interests and product preferences."
   ]
  },
  {
   "cell_type": "markdown",
   "id": "16cc415a",
   "metadata": {},
   "source": [
    "# Marketing Conclusion based on above analysis and visualisation"
   ]
  },
  {
   "cell_type": "markdown",
   "id": "3fe27062",
   "metadata": {},
   "source": [
    "Cluster 1:This cluster produces highest amount of MntTotal..."
   ]
  },
  {
   "cell_type": "markdown",
   "id": "c05626fd",
   "metadata": {},
   "source": [
    "cluster-2:This provides minimum amount of MntTotal...."
   ]
  },
  {
   "cell_type": "markdown",
   "id": "e13a5e6e",
   "metadata": {},
   "source": [
    "cluster 0:Maximum number of deals purchased belongs to this cluster."
   ]
  },
  {
   "cell_type": "markdown",
   "id": "578fee0c",
   "metadata": {},
   "source": [
    "cluster 2:Customer from cluster 2 have minimum number of deals purchased."
   ]
  },
  {
   "cell_type": "markdown",
   "id": "dae6f305",
   "metadata": {},
   "source": [
    "cluster1:Minimum no of complain come from cluster 1."
   ]
  },
  {
   "cell_type": "markdown",
   "id": "4727acf3",
   "metadata": {},
   "source": [
    "Cluster1 -In this cluster customers have maximum income(they are rich)"
   ]
  },
  {
   "cell_type": "markdown",
   "id": "4de09f93",
   "metadata": {},
   "source": [
    "cluster 2-In this cluster customers have minimum Income."
   ]
  },
  {
   "cell_type": "markdown",
   "id": "7724a3b2",
   "metadata": {},
   "source": [
    "# Recommendations"
   ]
  },
  {
   "cell_type": "markdown",
   "id": "6a180e74",
   "metadata": {},
   "source": [
    "Insights can guide marketers in tailoring their strategies to effectively engage with customers in each segment, optimize marketing spend, and drive revenue growth."
   ]
  },
  {
   "cell_type": "markdown",
   "id": "189cbe7c",
   "metadata": {},
   "source": [
    "Cluster 1: High-MntTotal, Low-Complaint Customers and Customers belong to this cluster have high value of income.\n",
    "\n",
    "While customers in this cluster have lower incomes and make fewer purchases, they still represent a segment that can be targeted effectively. Marketers could focus on value propositions, affordability, and practical benefits to resonate with this audience. Campaigns highlighting cost-effectiveness, discounts, and budget-friendly options may attract their attention.\n",
    "    \n"
   ]
  },
  {
   "cell_type": "markdown",
   "id": "a1969958",
   "metadata": {},
   "source": [
    "Cluster 2: Low-MntTotal, Low-Deals Purchased Customers and most of customers belong to this cluster have low income\n",
    "\n",
    "While customers in this cluster have lower incomes and make fewer purchases, they still represent a segment that can be targeted effectively. Marketers could focus on value propositions, affordability, and practical benefits to resonate with this audience. Campaigns highlighting cost-effectiveness, discounts, and budget-friendly options may attract their attention."
   ]
  },
  {
   "cell_type": "markdown",
   "id": "aefc8070",
   "metadata": {},
   "source": [
    "Cluster 0: Maximum Deals Purchased Customer.\n",
    "\n",
    "Cluster 0: Since this cluster purchases the maximum number of deals, marketers should focus on maintaining customer loyalty and encouraging repeat purchases. Strategies could include loyalty programs, personalized offers, and targeted promotions to capitalize on their willingness to purchase."
   ]
  },
  {
   "cell_type": "code",
   "execution_count": null,
   "id": "56b25432",
   "metadata": {},
   "outputs": [],
   "source": []
  }
 ],
 "metadata": {
  "kernelspec": {
   "display_name": "Python 3",
   "language": "python",
   "name": "python3"
  },
  "language_info": {
   "codemirror_mode": {
    "name": "ipython",
    "version": 3
   },
   "file_extension": ".py",
   "mimetype": "text/x-python",
   "name": "python",
   "nbconvert_exporter": "python",
   "pygments_lexer": "ipython3",
   "version": "3.8.8"
  }
 },
 "nbformat": 4,
 "nbformat_minor": 5
}
